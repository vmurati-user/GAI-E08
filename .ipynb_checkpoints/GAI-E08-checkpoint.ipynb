{
 "cells": [
  {
   "cell_type": "code",
   "execution_count": null,
   "id": "b6da107b",
   "metadata": {},
   "outputs": [],
   "source": [
    "%%capture\n",
    "%%sh\n",
    "chmod u+x ./helpful-script.sh\n",
    "./helpful-script.sh setup"
   ]
  },
  {
   "cell_type": "code",
   "execution_count": null,
   "id": "58f69bed",
   "metadata": {},
   "outputs": [],
   "source": [
    "import otter\n",
    "grader = otter.Notebook('GAI-E08.ipynb')"
   ]
  },
  {
   "cell_type": "markdown",
   "id": "notebook_title",
   "metadata": {},
   "source": [
    "# Week 8 GenAI Learning Log\n",
    "\n",
    "## Your Mission: Understand Populations, Samples, and Distributions"
   ]
  },
  {
   "cell_type": "markdown",
   "id": "introduction",
   "metadata": {},
   "source": [
    "Welcome to your next GenAI learning module! 🎉 This week, we transition from probability to the core of statistical inference: **sampling and describing data**. Last week, you focused on **Probability**—the mathematics of chance. This assignment will guide you through the process of correctly gathering data (**sampling**), visualizing it (**distributions**), and summarizing it numerically (**summary statistics**). As always, your AI assistant is here to help you explore these concepts and prepare for hands-on practice in class. Let's dive in!\n",
    "\n",
    "### What You'll Need\n",
    "\n",
    "* Access to TerrierGPT or ChatGPT (or your preferred AI assistant)\n",
    "* This notebook for recording your responses\n",
    "* About 2-3 hours of focused exploration time (but not necessarily all at once!)\n",
    "\n",
    "**Important:** This is a GREEN ZONE assignment. AI collaboration is not just allowed but encouraged!"
   ]
  },
  {
   "cell_type": "markdown",
   "id": "part1_intro",
   "metadata": {},
   "source": [
    "## Part 1: Sampling Concepts (75 min)\n",
    "\n",
    "**Your Mission:** Understand the foundational concepts of gathering data from large groups.\n",
    "\n",
    "---"
   ]
  },
  {
   "cell_type": "markdown",
   "id": "q1_1_prompt",
   "metadata": {
    "deletable": false,
    "editable": false
   },
   "source": [
    "### Question 1.1: Population vs. Sample\n",
    "\n",
    "Ask your AI assistant:\n",
    "\n",
    "\"I need to understand how we get data from the real world: **What's the difference between a population and a sample?**\"\n",
    "\n",
    "In the variable `pop_vs_sample`, define a **population** and a **sample**, and give one simple example that illustrates the difference (e.g., all students in a university vs. 100 students surveyed)."
   ]
  },
  {
   "cell_type": "code",
   "execution_count": null,
   "id": "q1_1_code",
   "metadata": {
    "tags": [
     "otter_answer_cell"
    ]
   },
   "outputs": [],
   "source": [
    "pop_vs_sample = ..."
   ]
  },
  {
   "cell_type": "code",
   "execution_count": null,
   "id": "5271cf5a",
   "metadata": {
    "deletable": false,
    "editable": false
   },
   "outputs": [],
   "source": [
    "grader.check(\"q1.1\")"
   ]
  },
  {
   "cell_type": "code",
   "execution_count": null,
   "id": "7e71ae3e",
   "metadata": {},
   "outputs": [],
   "source": [
    "!./helpful-script.sh save 1>/dev/null"
   ]
  },
  {
   "cell_type": "markdown",
   "id": "q1_2_prompt",
   "metadata": {
    "deletable": false,
    "editable": false
   },
   "source": [
    "### Question 1.2: Why We Sample\n",
    "\n",
    "Ask your AI assistant:\n",
    "\n",
    "\"I need to understand how we get data from the real world: **Why can't we always study the entire population?**\"\n",
    "\n",
    "In the variable `why_sample`, state two primary reasons (e.g., cost, feasibility, time) why studying the entire population is often impossible or impractical."
   ]
  },
  {
   "cell_type": "code",
   "execution_count": null,
   "id": "q1_2_code",
   "metadata": {
    "tags": [
     "otter_answer_cell"
    ]
   },
   "outputs": [],
   "source": [
    "why_sample = ..."
   ]
  },
  {
   "cell_type": "code",
   "execution_count": null,
   "id": "4c8cf0e8",
   "metadata": {
    "deletable": false,
    "editable": false
   },
   "outputs": [],
   "source": [
    "grader.check(\"q1.2\")"
   ]
  },
  {
   "cell_type": "code",
   "execution_count": null,
   "id": "34b3ef33",
   "metadata": {},
   "outputs": [],
   "source": [
    "!./helpful-script.sh save 1>/dev/null"
   ]
  },
  {
   "cell_type": "markdown",
   "id": "q1_3_prompt",
   "metadata": {
    "deletable": false,
    "editable": false
   },
   "source": [
    "### Question 1.3: Good vs. Bad Samples\n",
    "\n",
    "Ask your AI assistant:\n",
    "\n",
    "\"I need to understand how we get data from the real world: **What makes a good sample vs a bad sample?**\"\n",
    "\n",
    "In the variable `good_vs_bad_sample`, describe the key characteristic that determines a **good sample** (e.g., representativeness) and one example of a **bad sample** (e.g., convenience sample)."
   ]
  },
  {
   "cell_type": "code",
   "execution_count": null,
   "id": "q1_3_code",
   "metadata": {
    "tags": [
     "otter_answer_cell"
    ]
   },
   "outputs": [],
   "source": [
    "good_vs_bad_sample = ..."
   ]
  },
  {
   "cell_type": "code",
   "execution_count": null,
   "id": "9320fdab",
   "metadata": {
    "deletable": false,
    "editable": false
   },
   "outputs": [],
   "source": [
    "grader.check(\"q1.3\")"
   ]
  },
  {
   "cell_type": "code",
   "execution_count": null,
   "id": "120aaa68",
   "metadata": {},
   "outputs": [],
   "source": [
    "!./helpful-script.sh save 1>/dev/null"
   ]
  },
  {
   "cell_type": "markdown",
   "id": "q1_4_prompt",
   "metadata": {
    "deletable": false,
    "editable": false
   },
   "source": [
    "### Question 1.4: Sampling Methods\n",
    "\n",
    "Ask your AI assistant:\n",
    "\n",
    "\"I need to understand how we get data from the real world: **What are different sampling methods and when do we use each?**\"\n",
    "\n",
    "In the variable `sampling_methods`, describe two different types of random sampling methods (e.g., simple random sampling, stratified sampling) and briefly explain when a data scientist would choose one over the other."
   ]
  },
  {
   "cell_type": "code",
   "execution_count": null,
   "id": "q1_4_code",
   "metadata": {
    "tags": [
     "otter_answer_cell"
    ]
   },
   "outputs": [],
   "source": [
    "sampling_methods = ..."
   ]
  },
  {
   "cell_type": "code",
   "execution_count": null,
   "id": "fb2acf65",
   "metadata": {
    "deletable": false,
    "editable": false
   },
   "outputs": [],
   "source": [
    "grader.check(\"q1.4\")"
   ]
  },
  {
   "cell_type": "code",
   "execution_count": null,
   "id": "c2e43292",
   "metadata": {},
   "outputs": [],
   "source": [
    "!./helpful-script.sh save 1>/dev/null"
   ]
  },
  {
   "cell_type": "markdown",
   "id": "q1_5_prompt",
   "metadata": {
    "deletable": false,
    "editable": false
   },
   "source": [
    "### Question 1.5: Sampling Method Exercise\n",
    "\n",
    "Imagine two researchers want to sample BU students for a survey:\n",
    "\n",
    "1.  **Ben** took every single BU student email address and randomly chose 1,000 to send his survey link.\n",
    "2.  **Jerry** stood outside the CDS building from 10 am to 12 pm and asked students passing by to fill out his survey.\n",
    "\n",
    "In the variable `sampling_comparison`, identify what Ben's and Jerry's sampling methods are called, and explain which method is better for achieving a **representative sample** and why."
   ]
  },
  {
   "cell_type": "code",
   "execution_count": null,
   "id": "q1_5_code",
   "metadata": {
    "tags": [
     "otter_answer_cell"
    ]
   },
   "outputs": [],
   "source": [
    "sampling_comparison = ..."
   ]
  },
  {
   "cell_type": "code",
   "execution_count": null,
   "id": "aa55eda9",
   "metadata": {
    "deletable": false,
    "editable": false
   },
   "outputs": [],
   "source": [
    "grader.check(\"q1.5\")"
   ]
  },
  {
   "cell_type": "code",
   "execution_count": null,
   "id": "4ff0799d",
   "metadata": {},
   "outputs": [],
   "source": [
    "!./helpful-script.sh save 1>/dev/null"
   ]
  },
  {
   "cell_type": "markdown",
   "id": "part2_intro",
   "metadata": {},
   "source": [
    "\n",
    "--- \n",
    "\n",
    "## Part 2: Sampling Bias and Problems (60 min)\n",
    "\n",
    "**Your Mission:** Identify potential pitfalls and errors that can undermine data quality.\n",
    "\n",
    "---"
   ]
  },
  {
   "cell_type": "markdown",
   "id": "q2_1_prompt",
   "metadata": {
    "deletable": false,
    "editable": false
   },
   "source": [
    "### Question 2.1: What is Sampling Bias?\n",
    "\n",
    "Ask your AI assistant:\n",
    "\n",
    "\"What can go wrong with sampling? **What is sampling bias and how does it happen?**\"\n",
    "\n",
    "In the variable `sampling_bias_def`, define **sampling bias** and explain one common way it can occur (e.g., self-selection bias, undercoverage)."
   ]
  },
  {
   "cell_type": "code",
   "execution_count": null,
   "id": "q2_1_code",
   "metadata": {
    "tags": [
     "otter_answer_cell"
    ]
   },
   "outputs": [],
   "source": [
    "sampling_bias_def = ..."
   ]
  },
  {
   "cell_type": "code",
   "execution_count": null,
   "id": "6cd5700a",
   "metadata": {
    "deletable": false,
    "editable": false
   },
   "outputs": [],
   "source": [
    "grader.check(\"q2.1\")"
   ]
  },
  {
   "cell_type": "code",
   "execution_count": null,
   "id": "d5cc9d39",
   "metadata": {},
   "outputs": [],
   "source": [
    "!./helpful-script.sh save 1>/dev/null"
   ]
  },
  {
   "cell_type": "markdown",
   "id": "q2_2_prompt",
   "metadata": {
    "deletable": false,
    "editable": false
   },
   "source": [
    "### Question 2.2: Examples of Biased Samples\n",
    "\n",
    "Ask your AI assistant:\n",
    "\n",
    "\"What can go wrong with sampling? **Give me examples of biased samples from real surveys or studies**\"\n",
    "\n",
    "In the variable `biased_example`, describe one concrete historical or theoretical example of a biased sample and explain why it failed to represent the population accurately."
   ]
  },
  {
   "cell_type": "code",
   "execution_count": null,
   "id": "q2_2_code",
   "metadata": {
    "tags": [
     "otter_answer_cell"
    ]
   },
   "outputs": [],
   "source": [
    "biased_example = ..."
   ]
  },
  {
   "cell_type": "code",
   "execution_count": null,
   "id": "a6c97e9f",
   "metadata": {
    "deletable": false,
    "editable": false
   },
   "outputs": [],
   "source": [
    "grader.check(\"q2.2\")"
   ]
  },
  {
   "cell_type": "code",
   "execution_count": null,
   "id": "4191f456",
   "metadata": {},
   "outputs": [],
   "source": [
    "!./helpful-script.sh save 1>/dev/null"
   ]
  },
  {
   "cell_type": "markdown",
   "id": "q2_3_prompt",
   "metadata": {
    "deletable": false,
    "editable": false
   },
   "source": [
    "### Question 2.3: The Effect of Response Rates\n",
    "\n",
    "Ask your AI assistant:\n",
    "\n",
    "\"What can go wrong with sampling? **How do response rates affect sample quality?**\"\n",
    "\n",
    "In the variable `response_rate_effect`, explain the potential problem that arises when a survey has a low response rate (i.e., non-response bias)."
   ]
  },
  {
   "cell_type": "code",
   "execution_count": null,
   "id": "q2_3_code",
   "metadata": {
    "tags": [
     "otter_answer_cell"
    ]
   },
   "outputs": [],
   "source": [
    "response_rate_effect = ..."
   ]
  },
  {
   "cell_type": "code",
   "execution_count": null,
   "id": "197fa90c",
   "metadata": {
    "deletable": false,
    "editable": false
   },
   "outputs": [],
   "source": [
    "grader.check(\"q2.3\")"
   ]
  },
  {
   "cell_type": "code",
   "execution_count": null,
   "id": "a340936a",
   "metadata": {},
   "outputs": [],
   "source": [
    "!./helpful-script.sh save 1>/dev/null"
   ]
  },
  {
   "cell_type": "markdown",
   "id": "q2_4_prompt",
   "metadata": {
    "deletable": false,
    "editable": false
   },
   "source": [
    "### Question 2.4: Representative Samples\n",
    "\n",
    "Ask your AI assistant:\n",
    "\n",
    "\"What can go wrong with sampling? **What is a representative sample and why is it important?**\"\n",
    "\n",
    "In the variable `representative_sample_importance`, define a **representative sample** and explain why achieving one is the main goal of statistical sampling."
   ]
  },
  {
   "cell_type": "code",
   "execution_count": null,
   "id": "q2_4_code",
   "metadata": {
    "tags": [
     "otter_answer_cell"
    ]
   },
   "outputs": [],
   "source": [
    "representative_sample_importance = ..."
   ]
  },
  {
   "cell_type": "code",
   "execution_count": null,
   "id": "d761c30b",
   "metadata": {
    "deletable": false,
    "editable": false
   },
   "outputs": [],
   "source": [
    "grader.check(\"q2.4\")"
   ]
  },
  {
   "cell_type": "code",
   "execution_count": null,
   "id": "1b1ef9ce",
   "metadata": {},
   "outputs": [],
   "source": [
    "!./helpful-script.sh save 1>/dev/null"
   ]
  },
  {
   "cell_type": "markdown",
   "id": "part3_intro",
   "metadata": {},
   "source": [
    "\n",
    "--- \n",
    "\n",
    "## Part 3: Data Distributions (90 min)\n",
    "\n",
    "**Your Mission:** Understand how to visualize and interpret the shape of your data.\n",
    "\n",
    "---"
   ]
  },
  {
   "cell_type": "markdown",
   "id": "q3_1_prompt",
   "metadata": {
    "deletable": false,
    "editable": false
   },
   "source": [
    "### Question 3.1: What is a Distribution?\n",
    "\n",
    "Ask your AI assistant:\n",
    "\n",
    "\"Now I want to understand how data is distributed: **What is a distribution and why do we care about the shape of data?**\"\n",
    "\n",
    "In the variable `distribution_meaning`, define a **data distribution** and explain why its shape is a critical piece of information for data analysis."
   ]
  },
  {
   "cell_type": "code",
   "execution_count": null,
   "id": "q3_1_code",
   "metadata": {
    "tags": [
     "otter_answer_cell"
    ]
   },
   "outputs": [],
   "source": [
    "distribution_meaning = ..."
   ]
  },
  {
   "cell_type": "code",
   "execution_count": null,
   "id": "a4de5539",
   "metadata": {
    "deletable": false,
    "editable": false
   },
   "outputs": [],
   "source": [
    "grader.check(\"q3.1\")"
   ]
  },
  {
   "cell_type": "raw",
   "id": "7bc17136",
   "metadata": {
    "vscode": {
     "languageId": "raw"
    }
   },
   "source": [
    "!./helpful-script.sh save 1>/dev/null"
   ]
  },
  {
   "cell_type": "markdown",
   "id": "q3_2_prompt",
   "metadata": {
    "deletable": false,
    "editable": false
   },
   "source": [
    "### Question 3.2: Histograms\n",
    "\n",
    "Ask your AI assistant:\n",
    "\n",
    "\"Now I want to understand how data is distributed: **What do histograms tell us about our data?**\"\n",
    "\n",
    "In the variable `histogram_info`, explain what a **histogram** visualizes and list two specific things a data scientist can learn by looking at one (e.g., skewness, modality)."
   ]
  },
  {
   "cell_type": "code",
   "execution_count": null,
   "id": "q3_2_code",
   "metadata": {
    "tags": [
     "otter_answer_cell"
    ]
   },
   "outputs": [],
   "source": [
    "histogram_info = ..."
   ]
  },
  {
   "cell_type": "code",
   "execution_count": null,
   "id": "d8324683",
   "metadata": {
    "deletable": false,
    "editable": false
   },
   "outputs": [],
   "source": [
    "grader.check(\"q3.2\")"
   ]
  },
  {
   "cell_type": "code",
   "execution_count": null,
   "id": "30e29ea1",
   "metadata": {},
   "outputs": [],
   "source": [
    "!./helpful-script.sh save 1>/dev/null"
   ]
  },
  {
   "cell_type": "markdown",
   "id": "q3_3_prompt",
   "metadata": {
    "deletable": false,
    "editable": false
   },
   "source": [
    "### Question 3.3: Normal Distributions\n",
    "\n",
    "Ask your AI assistant:\n",
    "\n",
    "\"Now I want to understand how data is distributed: **What are normal distributions and why are they important?**\"\n",
    "\n",
    "In the variable `normal_dist_importance`, describe the key visual characteristic of a **normal distribution** (the 'bell curve') and explain why it is so frequently used in statistics and data science."
   ]
  },
  {
   "cell_type": "code",
   "execution_count": null,
   "id": "q3_3_code",
   "metadata": {
    "tags": [
     "otter_answer_cell"
    ]
   },
   "outputs": [],
   "source": [
    "normal_dist_importance = ..."
   ]
  },
  {
   "cell_type": "code",
   "execution_count": null,
   "id": "acdbcbab",
   "metadata": {
    "deletable": false,
    "editable": false
   },
   "outputs": [],
   "source": [
    "grader.check(\"q3.3\")"
   ]
  },
  {
   "cell_type": "code",
   "execution_count": null,
   "id": "59996049",
   "metadata": {},
   "outputs": [],
   "source": [
    "!./helpful-script.sh save 1>/dev/null"
   ]
  },
  {
   "cell_type": "markdown",
   "id": "q3_4_prompt",
   "metadata": {
    "deletable": false,
    "editable": false
   },
   "source": [
    "### Question 3.4: Outliers\n",
    "\n",
    "Ask your AI assistant:\n",
    "\n",
    "\"Now I want to understand how data is distributed: **What are outliers and how do they affect our analysis?**\"\n",
    "\n",
    "In the variable `outlier_effect`, define an **outlier** and briefly explain one way it can distort the conclusions drawn from a dataset."
   ]
  },
  {
   "cell_type": "code",
   "execution_count": null,
   "id": "q3_4_code",
   "metadata": {
    "tags": [
     "otter_answer_cell"
    ]
   },
   "outputs": [],
   "source": [
    "outlier_effect = ..."
   ]
  },
  {
   "cell_type": "code",
   "execution_count": null,
   "id": "131ba265",
   "metadata": {
    "deletable": false,
    "editable": false
   },
   "outputs": [],
   "source": [
    "grader.check(\"q3.4\")"
   ]
  },
  {
   "cell_type": "code",
   "execution_count": null,
   "id": "de0e5667",
   "metadata": {},
   "outputs": [],
   "source": [
    "!./helpful-script.sh save 1>/dev/null"
   ]
  },
  {
   "cell_type": "markdown",
   "id": "histogram_exercise_intro",
   "metadata": {},
   "source": [
    "### Exercise: Interpreting a Sample Distribution\n",
    "\n",
    "The code block below generates a sample dataset. Run the code to visualize the data distribution before answering the next two questions."
   ]
  },
  {
   "cell_type": "code",
   "execution_count": null,
   "id": "histogram_code",
   "metadata": {},
   "outputs": [],
   "source": [
    "import numpy as np\n",
    "import pandas as pd\n",
    "import matplotlib.pyplot as plt\n",
    "\n",
    "# Set a seed for reproducibility\n",
    "np.random.seed(42)\n",
    "\n",
    "# Generating sample data\n",
    "skewed_data = np.random.exponential(scale=20000, size=500) + 30000\n",
    "salaries_data = np.append(skewed_data, [500000])\n",
    "\n",
    "# Create and display the histogram\n",
    "plt.figure(figsize=(10, 6))\n",
    "plt.hist(salaries_data, bins=30, edgecolor='black', alpha=0.7)\n",
    "plt.title('Distribution of Hypothetical Salaries (Right Skewed with Outlier)')\n",
    "plt.xlabel('Salary ($)')\n",
    "plt.ylabel('Frequency')\n",
    "plt.axvline(np.median(salaries_data), color='red', linestyle='dashed', linewidth=1, label='Median')\n",
    "plt.axvline(np.mean(salaries_data), color='green', linestyle='dashed', linewidth=1, label='Mean')\n",
    "plt.legend()\n",
    "plt.show()\n"
   ]
  },
  {
   "cell_type": "markdown",
   "id": "q3_5_prompt",
   "metadata": {
    "deletable": false,
    "editable": false
   },
   "source": [
    "### Question 3.5: Identifying Skewness\n",
    "\n",
    "Based on the histogram generated above, what is the skewness of the `salaries_data` distribution (left, right or normally distributed), and how do the mean (green line) and median (red line) relate to each other in this skewed shape?"
   ]
  },
  {
   "cell_type": "code",
   "execution_count": null,
   "id": "q3_5_code",
   "metadata": {
    "tags": [
     "otter_answer_cell"
    ]
   },
   "outputs": [],
   "source": [
    "skewness_and_center = ..."
   ]
  },
  {
   "cell_type": "code",
   "execution_count": null,
   "id": "3610bed0",
   "metadata": {
    "deletable": false,
    "editable": false
   },
   "outputs": [],
   "source": [
    "grader.check(\"q3.5\")"
   ]
  },
  {
   "cell_type": "code",
   "execution_count": null,
   "id": "c981d709",
   "metadata": {},
   "outputs": [],
   "source": [
    "!./helpful-script.sh save 1>/dev/null"
   ]
  },
  {
   "cell_type": "markdown",
   "id": "q3_6_prompt",
   "metadata": {
    "deletable": false,
    "editable": false
   },
   "source": [
    "### Question 3.6: Identifying the Outlier\n",
    "\n",
    "Referring to the histogram, is there an obvious outlier present in the `salaries_data`? If yes, briefly describe where the outlier is located relative to the rest of the data. Also, explain the effect of the outlier on the mean and median."
   ]
  },
  {
   "cell_type": "code",
   "execution_count": null,
   "id": "q3_6_code",
   "metadata": {
    "tags": [
     "otter_answer_cell"
    ]
   },
   "outputs": [],
   "source": [
    "outlier_location = ..."
   ]
  },
  {
   "cell_type": "code",
   "execution_count": null,
   "id": "0e24b848",
   "metadata": {
    "deletable": false,
    "editable": false
   },
   "outputs": [],
   "source": [
    "grader.check(\"q3.6\")"
   ]
  },
  {
   "cell_type": "code",
   "execution_count": null,
   "id": "41ed7031",
   "metadata": {},
   "outputs": [],
   "source": [
    "!./helpful-script.sh save 1>/dev/null"
   ]
  },
  {
   "cell_type": "markdown",
   "id": "part4_intro",
   "metadata": {},
   "source": [
    "\n",
    "--- \n",
    "\n",
    "## Part 4: Summary Statistics (55 min)\n",
    "\n",
    "**Your Mission:** Learn how to summarize and quantify the key features of a data distribution.\n",
    "\n",
    "---"
   ]
  },
  {
   "cell_type": "markdown",
   "id": "q4_1_prompt",
   "metadata": {
    "deletable": false,
    "editable": false
   },
   "source": [
    "### Question 4.1: Measures of Center\n",
    "\n",
    "Ask your AI assistant:\n",
    "\n",
    "\"How do we summarize distributions with numbers? **What do mean, median, and mode tell us differently?**\"\n",
    "\n",
    "In the variable `center_measures_difference`, summarize the unique information provided by the **mean**, **median**, and **mode**."
   ]
  },
  {
   "cell_type": "code",
   "execution_count": null,
   "id": "q4_1_code",
   "metadata": {
    "tags": [
     "otter_answer_cell"
    ]
   },
   "outputs": [],
   "source": [
    "center_measures_difference = ..."
   ]
  },
  {
   "cell_type": "code",
   "execution_count": null,
   "id": "685af135",
   "metadata": {
    "deletable": false,
    "editable": false
   },
   "outputs": [],
   "source": [
    "grader.check(\"q4.1\")"
   ]
  },
  {
   "cell_type": "code",
   "execution_count": null,
   "id": "970c01b2",
   "metadata": {},
   "outputs": [],
   "source": [
    "!./helpful-script.sh save 1>/dev/null"
   ]
  },
  {
   "cell_type": "markdown",
   "id": "q4_2_prompt",
   "metadata": {
    "deletable": false,
    "editable": false
   },
   "source": [
    "### Question 4.2: Measures of Spread\n",
    "\n",
    "Ask your AI assistant:\n",
    "\n",
    "\"How do we summarize distributions with numbers? **How do we measure spread (range, standard deviation)?**\"\n",
    "\n",
    "In the variable `spread_measures`, define the **range** and the **standard deviation**, and explain what each one tells you about the variability of the data."
   ]
  },
  {
   "cell_type": "code",
   "execution_count": null,
   "id": "q4_2_code",
   "metadata": {
    "tags": [
     "otter_answer_cell"
    ]
   },
   "outputs": [],
   "source": [
    "spread_measures = ..."
   ]
  },
  {
   "cell_type": "code",
   "execution_count": null,
   "id": "fa251fa5",
   "metadata": {
    "deletable": false,
    "editable": false
   },
   "outputs": [],
   "source": [
    "grader.check(\"q4.2\")"
   ]
  },
  {
   "cell_type": "code",
   "execution_count": null,
   "id": "c5cf73a4",
   "metadata": {},
   "outputs": [],
   "source": [
    "!./helpful-script.sh save 1>/dev/null"
   ]
  },
  {
   "cell_type": "markdown",
   "id": "q4_3_prompt",
   "metadata": {
    "deletable": false,
    "editable": false
   },
   "source": [
    "### Question 4.3: Outliers' Effect on Summary Statistics (Theory)\n",
    "\n",
    "Ask your AI assistant:\n",
    "\n",
    "\"How do we summarize distributions with numbers? **How do outliers affect different summary statistics?**\"\n",
    "\n",
    "In the variable `outlier_on_stats`, explain how an **outlier** affects the **mean** and how it affects the **median**."
   ]
  },
  {
   "cell_type": "code",
   "execution_count": null,
   "id": "q4_3_code",
   "metadata": {
    "tags": [
     "otter_answer_cell"
    ]
   },
   "outputs": [],
   "source": [
    "outlier_on_stats = ..."
   ]
  },
  {
   "cell_type": "code",
   "execution_count": null,
   "id": "e7019438",
   "metadata": {
    "deletable": false,
    "editable": false
   },
   "outputs": [],
   "source": [
    "grader.check(\"q4.3\")"
   ]
  },
  {
   "cell_type": "code",
   "execution_count": null,
   "id": "55142def",
   "metadata": {},
   "outputs": [],
   "source": [
    "!./helpful-script.sh save 1>/dev/null"
   ]
  },
  {
   "cell_type": "markdown",
   "id": "q4_4_prompt",
   "metadata": {
    "deletable": false,
    "editable": false
   },
   "source": [
    "### Question 4.4: Best Measure of Center (General)\n",
    "\n",
    "Ask your AI assistant:\n",
    "\n",
    "\"How do we summarize distributions with numbers? **When is each measure of center most useful?**\"\n",
    "\n",
    "In the variable `best_measure_of_center`, explain which measure of center (**mean, median, or mode**) is generally considered the most robust (least affected by outliers) and why."
   ]
  },
  {
   "cell_type": "code",
   "execution_count": null,
   "id": "q4_4_code",
   "metadata": {
    "tags": [
     "otter_answer_cell"
    ]
   },
   "outputs": [],
   "source": [
    "best_measure_of_center = ..."
   ]
  },
  {
   "cell_type": "code",
   "execution_count": null,
   "id": "4605e6d7",
   "metadata": {
    "deletable": false,
    "editable": false
   },
   "outputs": [],
   "source": [
    "grader.check(\"q4.4\")"
   ]
  },
  {
   "cell_type": "code",
   "execution_count": null,
   "id": "f4b5665b",
   "metadata": {},
   "outputs": [],
   "source": [
    "!./helpful-script.sh save 1>/dev/null"
   ]
  },
  {
   "cell_type": "markdown",
   "id": "bc018706",
   "metadata": {
    "vscode": {
     "languageId": "raw"
    }
   },
   "source": [
    "### Exercise: Applying Measures of Center to Skewed Data\n",
    "\n",
    "The code block below is the same histogram from Part 3, using the **right-skewed salary data with an outlier**. Use this visualization to answer the next two questions regarding the central tendency."
   ]
  },
  {
   "cell_type": "code",
   "execution_count": null,
   "id": "f6ba5420",
   "metadata": {},
   "outputs": [],
   "source": [
    "import numpy as np\n",
    "import pandas as pd\n",
    "import matplotlib.pyplot as plt\n",
    "\n",
    "# Set a seed for reproducibility\n",
    "np.random.seed(42)\n",
    "\n",
    "# Generate a right-skewed dataset (using exponential distribution, then scaling)\n",
    "skewed_data = np.random.exponential(scale=20000, size=500) + 30000\n",
    "\n",
    "# Introduce a single, extreme outlier\n",
    "salaries_data = np.append(skewed_data, [500000])\n",
    "\n",
    "# Create and display the histogram\n",
    "plt.figure(figsize=(10, 6))\n",
    "plt.hist(salaries_data, bins=30, edgecolor='black', alpha=0.7)\n",
    "plt.title('Distribution of Hypothetical Salaries (Right Skewed with Outlier)')\n",
    "plt.xlabel('Salary ($)')\n",
    "plt.ylabel('Frequency')\n",
    "plt.axvline(np.median(salaries_data), color='red', linestyle='dashed', linewidth=1, label='Median')\n",
    "plt.axvline(np.mean(salaries_data), color='green', linestyle='dashed', linewidth=1, label='Mean')\n",
    "plt.legend()\n",
    "plt.show()\n"
   ]
  },
  {
   "cell_type": "markdown",
   "id": "q4_5_prompt",
   "metadata": {
    "deletable": false,
    "editable": false
   },
   "source": [
    "### Question 4.5: Best Center Metric for Skewed Data (Application)\n",
    "\n",
    "Look closely at the histogram above, specifically at the positions of the **Mean** (green line) and the **Median** (red line). Which of these two metrics is the better measure for describing the *typical* salary in this specific dataset?"
   ]
  },
  {
   "cell_type": "code",
   "execution_count": null,
   "id": "q4_5_code",
   "metadata": {
    "tags": [
     "otter_answer_cell"
    ]
   },
   "outputs": [],
   "source": [
    "best_center_metric = ..."
   ]
  },
  {
   "cell_type": "code",
   "execution_count": null,
   "id": "73e3bf30",
   "metadata": {
    "deletable": false,
    "editable": false
   },
   "outputs": [],
   "source": [
    "grader.check(\"q4.5\")"
   ]
  },
  {
   "cell_type": "code",
   "execution_count": null,
   "id": "e0148789",
   "metadata": {},
   "outputs": [],
   "source": [
    "!./helpful-script.sh save 1>/dev/null"
   ]
  },
  {
   "cell_type": "markdown",
   "id": "q4_6_prompt",
   "metadata": {
    "deletable": false,
    "editable": false
   },
   "source": [
    "### Question 4.6: Justifying the Metric Choice\n",
    "\n",
    "Explain **why** the metric you chose in Question 4.5 is superior for describing the center of the `salaries_data` distribution, specifically considering the presence of the skew and the extreme outlier."
   ]
  },
  {
   "cell_type": "code",
   "execution_count": null,
   "id": "q4_6_code",
   "metadata": {
    "tags": [
     "otter_answer_cell"
    ]
   },
   "outputs": [],
   "source": [
    "justification_for_metric = ..."
   ]
  },
  {
   "cell_type": "code",
   "execution_count": null,
   "id": "b34578ff",
   "metadata": {
    "deletable": false,
    "editable": false
   },
   "outputs": [],
   "source": [
    "grader.check(\"q4.6\")"
   ]
  },
  {
   "cell_type": "code",
   "execution_count": null,
   "id": "a5d3310c",
   "metadata": {},
   "outputs": [],
   "source": [
    "!./helpful-script.sh save 1>/dev/null"
   ]
  }
 ],
 "metadata": {
  "kernelspec": {
   "display_name": "Python 3",
   "language": "python",
   "name": "python3"
  },
  "language_info": {
   "codemirror_mode": {
    "name": "ipython",
    "version": 3
   },
   "file_extension": ".py",
   "mimetype": "text/x-python",
   "name": "python",
   "nbconvert_exporter": "python",
   "pygments_lexer": "ipython3",
   "version": "3.12.2"
  },
  "otter": {
   "OK_FORMAT": true,
   "tests": {
    "q1.1": {
     "name": "q1.1",
     "points": 10,
     "suites": [
      {
       "cases": [
        {
         "code": ">>> assert type(pop_vs_sample) == str, \"'pop_vs_sample' must be a string.\"\n",
         "hidden": false,
         "locked": false
        }
       ],
       "scored": true,
       "setup": "",
       "teardown": "",
       "type": "doctest"
      }
     ]
    },
    "q1.2": {
     "name": "q1.2",
     "points": 10,
     "suites": [
      {
       "cases": [
        {
         "code": ">>> assert type(why_sample) == str, \"'why_sample' must be a string.\"\n",
         "hidden": false,
         "locked": false
        }
       ],
       "scored": true,
       "setup": "",
       "teardown": "",
       "type": "doctest"
      }
     ]
    },
    "q1.3": {
     "name": "q1.3",
     "points": 10,
     "suites": [
      {
       "cases": [
        {
         "code": ">>> assert type(good_vs_bad_sample) == str, \"'good_vs_bad_sample' must be a string.\"\n",
         "hidden": false,
         "locked": false
        }
       ],
       "scored": true,
       "setup": "",
       "teardown": "",
       "type": "doctest"
      }
     ]
    },
    "q1.4": {
     "name": "q1.4",
     "points": 10,
     "suites": [
      {
       "cases": [
        {
         "code": ">>> assert type(sampling_methods) == str, \"'sampling_methods' must be a string.\"\n",
         "hidden": false,
         "locked": false
        }
       ],
       "scored": true,
       "setup": "",
       "teardown": "",
       "type": "doctest"
      }
     ]
    },
    "q1.5": {
     "name": "q1.5",
     "points": 10,
     "suites": [
      {
       "cases": [
        {
         "code": ">>> assert type(sampling_comparison) == str, \"'sampling_comparison' must be a string.\"\n",
         "hidden": false,
         "locked": false
        }
       ],
       "scored": true,
       "setup": "",
       "teardown": "",
       "type": "doctest"
      }
     ]
    },
    "q2.1": {
     "name": "q2.1",
     "points": 10,
     "suites": [
      {
       "cases": [
        {
         "code": ">>> assert type(sampling_bias_def) == str, \"'sampling_bias_def' must be a string.\"\n",
         "hidden": false,
         "locked": false
        }
       ],
       "scored": true,
       "setup": "",
       "teardown": "",
       "type": "doctest"
      }
     ]
    },
    "q2.2": {
     "name": "q2.2",
     "points": 10,
     "suites": [
      {
       "cases": [
        {
         "code": ">>> assert type(biased_example) == str, \"'biased_example' must be a string.\"\n",
         "hidden": false,
         "locked": false
        }
       ],
       "scored": true,
       "setup": "",
       "teardown": "",
       "type": "doctest"
      }
     ]
    },
    "q2.3": {
     "name": "q2.3",
     "points": 10,
     "suites": [
      {
       "cases": [
        {
         "code": ">>> assert type(response_rate_effect) == str, \"'response_rate_effect' must be a string.\"\n",
         "hidden": false,
         "locked": false
        }
       ],
       "scored": true,
       "setup": "",
       "teardown": "",
       "type": "doctest"
      }
     ]
    },
    "q2.4": {
     "name": "q2.4",
     "points": 10,
     "suites": [
      {
       "cases": [
        {
         "code": ">>> assert type(representative_sample_importance) == str, \"'representative_sample_importance' must be a string.\"\n",
         "hidden": false,
         "locked": false
        }
       ],
       "scored": true,
       "setup": "",
       "teardown": "",
       "type": "doctest"
      }
     ]
    },
    "q3.1": {
     "name": "q3.1",
     "points": 10,
     "suites": [
      {
       "cases": [
        {
         "code": ">>> assert type(distribution_meaning) == str, \"'distribution_meaning' must be a string.\"\n",
         "hidden": false,
         "locked": false
        }
       ],
       "scored": true,
       "setup": "",
       "teardown": "",
       "type": "doctest"
      }
     ]
    },
    "q3.2": {
     "name": "q3.2",
     "points": 10,
     "suites": [
      {
       "cases": [
        {
         "code": ">>> assert type(histogram_info) == str, \"'histogram_info' must be a string.\"\n",
         "hidden": false,
         "locked": false
        }
       ],
       "scored": true,
       "setup": "",
       "teardown": "",
       "type": "doctest"
      }
     ]
    },
    "q3.3": {
     "name": "q3.3",
     "points": 10,
     "suites": [
      {
       "cases": [
        {
         "code": ">>> assert type(normal_dist_importance) == str, \"'normal_dist_importance' must be a string.\"\n",
         "hidden": false,
         "locked": false
        }
       ],
       "scored": true,
       "setup": "",
       "teardown": "",
       "type": "doctest"
      }
     ]
    },
    "q3.4": {
     "name": "q3.4",
     "points": 10,
     "suites": [
      {
       "cases": [
        {
         "code": ">>> assert type(outlier_effect) == str, \"'outlier_effect' must be a string.\"\n",
         "hidden": false,
         "locked": false
        }
       ],
       "scored": true,
       "setup": "",
       "teardown": "",
       "type": "doctest"
      }
     ]
    },
    "q3.5": {
     "name": "q3.5",
     "points": 10,
     "suites": [
      {
       "cases": [
        {
         "code": ">>> assert type(skewness_and_center) == str, \"'skewness_and_center' must be a string.\"\n",
         "hidden": false,
         "locked": false
        }
       ],
       "scored": true,
       "setup": "",
       "teardown": "",
       "type": "doctest"
      }
     ]
    },
    "q3.6": {
     "name": "q3.6",
     "points": 10,
     "suites": [
      {
       "cases": [
        {
         "code": ">>> assert type(outlier_location) == str, \"'outlier_location' must be a string.\"\n",
         "hidden": false,
         "locked": false
        }
       ],
       "scored": true,
       "setup": "",
       "teardown": "",
       "type": "doctest"
      }
     ]
    },
    "q4.1": {
     "name": "q4.1",
     "points": 10,
     "suites": [
      {
       "cases": [
        {
         "code": ">>> assert type(center_measures_difference) == str, \"'center_measures_difference' must be a string.\"\n",
         "hidden": false,
         "locked": false
        }
       ],
       "scored": true,
       "setup": "",
       "teardown": "",
       "type": "doctest"
      }
     ]
    },
    "q4.2": {
     "name": "q4.2",
     "points": 10,
     "suites": [
      {
       "cases": [
        {
         "code": ">>> assert type(spread_measures) == str, \"'spread_measures' must be a string.\"\n",
         "hidden": false,
         "locked": false
        }
       ],
       "scored": true,
       "setup": "",
       "teardown": "",
       "type": "doctest"
      }
     ]
    },
    "q4.3": {
     "name": "q4.3",
     "points": 10,
     "suites": [
      {
       "cases": [
        {
         "code": ">>> assert type(outlier_on_stats) == str, \"'outlier_on_stats' must be a string.\"\n",
         "hidden": false,
         "locked": false
        }
       ],
       "scored": true,
       "setup": "",
       "teardown": "",
       "type": "doctest"
      }
     ]
    },
    "q4.4": {
     "name": "q4.4",
     "points": 10,
     "suites": [
      {
       "cases": [
        {
         "code": ">>> assert type(best_measure_of_center) == str, \"'best_measure_of_center' must be a string.\"\n",
         "hidden": false,
         "locked": false
        }
       ],
       "scored": true,
       "setup": "",
       "teardown": "",
       "type": "doctest"
      }
     ]
    },
    "q4.5": {
     "name": "q4.5",
     "points": 10,
     "suites": [
      {
       "cases": [
        {
         "code": ">>> assert type(best_center_metric) == str, \"'best_center_metric' must be a string.\"\n",
         "hidden": false,
         "locked": false
        }
       ],
       "scored": true,
       "setup": "",
       "teardown": "",
       "type": "doctest"
      }
     ]
    },
    "q4.6": {
     "name": "q4.6",
     "points": 10,
     "suites": [
      {
       "cases": [
        {
         "code": ">>> assert type(justification_for_metric) == str, \"'justification_for_metric' must be a string.\"\n",
         "hidden": false,
         "locked": false
        }
       ],
       "scored": true,
       "setup": "",
       "teardown": "",
       "type": "doctest"
      }
     ]
    }
   }
  }
 },
 "nbformat": 4,
 "nbformat_minor": 5
}
