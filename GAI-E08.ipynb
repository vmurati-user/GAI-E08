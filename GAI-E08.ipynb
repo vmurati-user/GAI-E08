{
 "cells": [
  {
   "cell_type": "code",
   "execution_count": 1,
   "id": "b6da107b",
   "metadata": {},
   "outputs": [],
   "source": [
    "%%capture\n",
    "%%sh\n",
    "chmod u+x ./helpful-script.sh\n",
    "./helpful-script.sh setup"
   ]
  },
  {
   "cell_type": "code",
   "execution_count": 2,
   "id": "58f69bed",
   "metadata": {},
   "outputs": [],
   "source": [
    "import otter\n",
    "grader = otter.Notebook('GAI-E08.ipynb')"
   ]
  },
  {
   "cell_type": "markdown",
   "id": "notebook_title",
   "metadata": {},
   "source": [
    "# Week 8 GenAI Learning Log\n",
    "\n",
    "## Your Mission: Understand Populations, Samples, and Distributions"
   ]
  },
  {
   "cell_type": "markdown",
   "id": "introduction",
   "metadata": {},
   "source": [
    "Welcome to your next GenAI learning module! 🎉 This week, we transition from probability to the core of statistical inference: **sampling and describing data**. Last week, you focused on **Probability**—the mathematics of chance. This assignment will guide you through the process of correctly gathering data (**sampling**), visualizing it (**distributions**), and summarizing it numerically (**summary statistics**). As always, your AI assistant is here to help you explore these concepts and prepare for hands-on practice in class. Let's dive in!\n",
    "\n",
    "### What You'll Need\n",
    "\n",
    "* Access to TerrierGPT or ChatGPT (or your preferred AI assistant)\n",
    "* This notebook for recording your responses\n",
    "* About 2-3 hours of focused exploration time (but not necessarily all at once!)\n",
    "\n",
    "**Important:** This is a GREEN ZONE assignment. AI collaboration is not just allowed but encouraged!"
   ]
  },
  {
   "cell_type": "markdown",
   "id": "part1_intro",
   "metadata": {},
   "source": [
    "## Part 1: Sampling Concepts (75 min)\n",
    "\n",
    "**Your Mission:** Understand the foundational concepts of gathering data from large groups.\n",
    "\n",
    "---"
   ]
  },
  {
   "cell_type": "markdown",
   "id": "q1_1_prompt",
   "metadata": {
    "deletable": false,
    "editable": false
   },
   "source": [
    "### Question 1.1: Population vs. Sample\n",
    "\n",
    "Ask your AI assistant:\n",
    "\n",
    "\"I need to understand how we get data from the real world: **What's the difference between a population and a sample?**\"\n",
    "\n",
    "In the variable `pop_vs_sample`, define a **population** and a **sample**, and give one simple example that illustrates the difference (e.g., all students in a university vs. 100 students surveyed)."
   ]
  },
  {
   "cell_type": "code",
   "execution_count": 3,
   "id": "q1_1_code",
   "metadata": {
    "tags": [
     "otter_answer_cell"
    ]
   },
   "outputs": [],
   "source": [
    "pop_vs_sample = \"Population is the full group, a sample is a small, managable part of that group. For example: a city, and a neighborhood.\""
   ]
  },
  {
   "cell_type": "code",
   "execution_count": 4,
   "id": "5271cf5a",
   "metadata": {
    "deletable": false,
    "editable": false
   },
   "outputs": [
    {
     "data": {
      "text/html": [
       "<p><strong><pre style='display: inline;'>q1.1</pre></strong> passed! 🌈</p>"
      ],
      "text/plain": [
       "q1.1 results: All test cases passed!"
      ]
     },
     "execution_count": 4,
     "metadata": {},
     "output_type": "execute_result"
    }
   ],
   "source": [
    "grader.check(\"q1.1\")"
   ]
  },
  {
   "cell_type": "code",
   "execution_count": 5,
   "id": "7e71ae3e",
   "metadata": {},
   "outputs": [
    {
     "name": "stdout",
     "output_type": "stream",
     "text": [
      "Enumerating objects: 4, done.\n",
      "Counting objects: 100% (4/4), done.\n",
      "Delta compression using up to 2 threads\n",
      "Compressing objects: 100% (3/3), done.\n",
      "Writing objects: 100% (3/3), 800 bytes | 800.00 KiB/s, done.\n",
      "Total 3 (delta 1), reused 0 (delta 0), pack-reused 0 (from 0)\n",
      "remote: Resolving deltas: 100% (1/1), completed with 1 local object.\u001b[K\n",
      "To https://github.com/vmurati-user/GAI-E08.git\n",
      "   ead9ecc..5f51179  main -> main\n"
     ]
    }
   ],
   "source": [
    "!./helpful-script.sh save 1>/dev/null"
   ]
  },
  {
   "cell_type": "markdown",
   "id": "q1_2_prompt",
   "metadata": {
    "deletable": false,
    "editable": false
   },
   "source": [
    "### Question 1.2: Why We Sample\n",
    "\n",
    "Ask your AI assistant:\n",
    "\n",
    "\"I need to understand how we get data from the real world: **Why can't we always study the entire population?**\"\n",
    "\n",
    "In the variable `why_sample`, state two primary reasons (e.g., cost, feasibility, time) why studying the entire population is often impossible or impractical."
   ]
  },
  {
   "cell_type": "code",
   "execution_count": 6,
   "id": "q1_2_code",
   "metadata": {
    "tags": [
     "otter_answer_cell"
    ]
   },
   "outputs": [],
   "source": [
    "why_sample = \"It is unrealistic to study an entire population due to lack of resources and time, so we use samples instead\""
   ]
  },
  {
   "cell_type": "code",
   "execution_count": 7,
   "id": "4c8cf0e8",
   "metadata": {
    "deletable": false,
    "editable": false
   },
   "outputs": [
    {
     "data": {
      "text/html": [
       "<p><strong><pre style='display: inline;'>q1.2</pre></strong> passed! 💯</p>"
      ],
      "text/plain": [
       "q1.2 results: All test cases passed!"
      ]
     },
     "execution_count": 7,
     "metadata": {},
     "output_type": "execute_result"
    }
   ],
   "source": [
    "grader.check(\"q1.2\")"
   ]
  },
  {
   "cell_type": "code",
   "execution_count": 8,
   "id": "34b3ef33",
   "metadata": {},
   "outputs": [
    {
     "name": "stdout",
     "output_type": "stream",
     "text": [
      "Enumerating objects: 7, done.\n",
      "Counting objects: 100% (7/7), done.\n",
      "Delta compression using up to 2 threads\n",
      "Compressing objects: 100% (4/4), done.\n",
      "Writing objects: 100% (4/4), 3.11 KiB | 3.11 MiB/s, done.\n",
      "Total 4 (delta 3), reused 0 (delta 0), pack-reused 0 (from 0)\n",
      "remote: Resolving deltas: 100% (3/3), completed with 3 local objects.\u001b[K\n",
      "To https://github.com/vmurati-user/GAI-E08.git\n",
      "   5f51179..a0b9e4b  main -> main\n"
     ]
    }
   ],
   "source": [
    "!./helpful-script.sh save 1>/dev/null"
   ]
  },
  {
   "cell_type": "markdown",
   "id": "q1_3_prompt",
   "metadata": {
    "deletable": false,
    "editable": false
   },
   "source": [
    "### Question 1.3: Good vs. Bad Samples\n",
    "\n",
    "Ask your AI assistant:\n",
    "\n",
    "\"I need to understand how we get data from the real world: **What makes a good sample vs a bad sample?**\"\n",
    "\n",
    "In the variable `good_vs_bad_sample`, describe the key characteristic that determines a **good sample** (e.g., representativeness) and one example of a **bad sample** (e.g., convenience sample)."
   ]
  },
  {
   "cell_type": "code",
   "execution_count": 9,
   "id": "q1_3_code",
   "metadata": {
    "tags": [
     "otter_answer_cell"
    ]
   },
   "outputs": [],
   "source": [
    "good_vs_bad_sample = \"A good sample should be randomly selected and represent the entire population as much as possible. Bad samples are ones which are not random, thus skewing the data.\""
   ]
  },
  {
   "cell_type": "code",
   "execution_count": 10,
   "id": "9320fdab",
   "metadata": {
    "deletable": false,
    "editable": false
   },
   "outputs": [
    {
     "data": {
      "text/html": [
       "<p><strong><pre style='display: inline;'>q1.3</pre></strong> passed! 🌟</p>"
      ],
      "text/plain": [
       "q1.3 results: All test cases passed!"
      ]
     },
     "execution_count": 10,
     "metadata": {},
     "output_type": "execute_result"
    }
   ],
   "source": [
    "grader.check(\"q1.3\")"
   ]
  },
  {
   "cell_type": "code",
   "execution_count": 11,
   "id": "120aaa68",
   "metadata": {},
   "outputs": [
    {
     "name": "stdout",
     "output_type": "stream",
     "text": [
      "Enumerating objects: 5, done.\n",
      "Counting objects: 100% (5/5), done.\n",
      "Delta compression using up to 2 threads\n",
      "Compressing objects: 100% (3/3), done.\n",
      "Writing objects: 100% (3/3), 405 bytes | 405.00 KiB/s, done.\n",
      "Total 3 (delta 2), reused 0 (delta 0), pack-reused 0 (from 0)\n",
      "remote: Resolving deltas: 100% (2/2), completed with 2 local objects.\u001b[K\n",
      "To https://github.com/vmurati-user/GAI-E08.git\n",
      "   a0b9e4b..e39fd03  main -> main\n"
     ]
    }
   ],
   "source": [
    "!./helpful-script.sh save 1>/dev/null"
   ]
  },
  {
   "cell_type": "markdown",
   "id": "q1_4_prompt",
   "metadata": {
    "deletable": false,
    "editable": false
   },
   "source": [
    "### Question 1.4: Sampling Methods\n",
    "\n",
    "Ask your AI assistant:\n",
    "\n",
    "\"I need to understand how we get data from the real world: **What are different sampling methods and when do we use each?**\"\n",
    "\n",
    "In the variable `sampling_methods`, describe two different types of random sampling methods (e.g., simple random sampling, stratified sampling) and briefly explain when a data scientist would choose one over the other."
   ]
  },
  {
   "cell_type": "code",
   "execution_count": 12,
   "id": "q1_4_code",
   "metadata": {
    "tags": [
     "otter_answer_cell"
    ]
   },
   "outputs": [],
   "source": [
    "sampling_methods = \"Simple random, stratified, convenience, etc. A scientist will pick one over another based on the specific constraints of their project.\""
   ]
  },
  {
   "cell_type": "code",
   "execution_count": 13,
   "id": "fb2acf65",
   "metadata": {
    "deletable": false,
    "editable": false
   },
   "outputs": [
    {
     "data": {
      "text/html": [
       "<p><strong><pre style='display: inline;'>q1.4</pre></strong> passed! 🙌</p>"
      ],
      "text/plain": [
       "q1.4 results: All test cases passed!"
      ]
     },
     "execution_count": 13,
     "metadata": {},
     "output_type": "execute_result"
    }
   ],
   "source": [
    "grader.check(\"q1.4\")"
   ]
  },
  {
   "cell_type": "code",
   "execution_count": 14,
   "id": "c2e43292",
   "metadata": {},
   "outputs": [
    {
     "name": "stdout",
     "output_type": "stream",
     "text": [
      "Enumerating objects: 5, done.\n",
      "Counting objects: 100% (5/5), done.\n",
      "Delta compression using up to 2 threads\n",
      "Compressing objects: 100% (3/3), done.\n",
      "Writing objects: 100% (3/3), 404 bytes | 404.00 KiB/s, done.\n",
      "Total 3 (delta 2), reused 0 (delta 0), pack-reused 0 (from 0)\n",
      "remote: Resolving deltas: 100% (2/2), completed with 2 local objects.\u001b[K\n",
      "To https://github.com/vmurati-user/GAI-E08.git\n",
      "   e39fd03..771cec8  main -> main\n"
     ]
    }
   ],
   "source": [
    "!./helpful-script.sh save 1>/dev/null"
   ]
  },
  {
   "cell_type": "markdown",
   "id": "q1_5_prompt",
   "metadata": {
    "deletable": false,
    "editable": false
   },
   "source": [
    "### Question 1.5: Sampling Method Exercise\n",
    "\n",
    "Imagine two researchers want to sample BU students for a survey:\n",
    "\n",
    "1.  **Ben** took every single BU student email address and randomly chose 1,000 to send his survey link.\n",
    "2.  **Jerry** stood outside the CDS building from 10 am to 12 pm and asked students passing by to fill out his survey.\n",
    "\n",
    "In the variable `sampling_comparison`, identify what Ben's and Jerry's sampling methods are called, and explain which method is better for achieving a **representative sample** and why."
   ]
  },
  {
   "cell_type": "code",
   "execution_count": 15,
   "id": "q1_5_code",
   "metadata": {
    "tags": [
     "otter_answer_cell"
    ]
   },
   "outputs": [],
   "source": [
    "sampling_comparison = \"Ben is doing random sampling, Jerry is doing convenience sampling. Ben's sample is better, since it is more random and thus the data will be more statistically significant.\""
   ]
  },
  {
   "cell_type": "code",
   "execution_count": 16,
   "id": "aa55eda9",
   "metadata": {
    "deletable": false,
    "editable": false
   },
   "outputs": [
    {
     "data": {
      "text/html": [
       "<p><strong><pre style='display: inline;'>q1.5</pre></strong> passed! 💯</p>"
      ],
      "text/plain": [
       "q1.5 results: All test cases passed!"
      ]
     },
     "execution_count": 16,
     "metadata": {},
     "output_type": "execute_result"
    }
   ],
   "source": [
    "grader.check(\"q1.5\")"
   ]
  },
  {
   "cell_type": "code",
   "execution_count": 17,
   "id": "4ff0799d",
   "metadata": {},
   "outputs": [
    {
     "name": "stdout",
     "output_type": "stream",
     "text": [
      "Enumerating objects: 5, done.\n",
      "Counting objects: 100% (5/5), done.\n",
      "Delta compression using up to 2 threads\n",
      "Compressing objects: 100% (3/3), done.\n",
      "Writing objects: 100% (3/3), 410 bytes | 410.00 KiB/s, done.\n",
      "Total 3 (delta 2), reused 0 (delta 0), pack-reused 0 (from 0)\n",
      "remote: Resolving deltas: 100% (2/2), completed with 2 local objects.\u001b[K\n",
      "To https://github.com/vmurati-user/GAI-E08.git\n",
      "   771cec8..83ca360  main -> main\n"
     ]
    }
   ],
   "source": [
    "!./helpful-script.sh save 1>/dev/null"
   ]
  },
  {
   "cell_type": "markdown",
   "id": "part2_intro",
   "metadata": {},
   "source": [
    "\n",
    "--- \n",
    "\n",
    "## Part 2: Sampling Bias and Problems (60 min)\n",
    "\n",
    "**Your Mission:** Identify potential pitfalls and errors that can undermine data quality.\n",
    "\n",
    "---"
   ]
  },
  {
   "cell_type": "markdown",
   "id": "q2_1_prompt",
   "metadata": {
    "deletable": false,
    "editable": false
   },
   "source": [
    "### Question 2.1: What is Sampling Bias?\n",
    "\n",
    "Ask your AI assistant:\n",
    "\n",
    "\"What can go wrong with sampling? **What is sampling bias and how does it happen?**\"\n",
    "\n",
    "In the variable `sampling_bias_def`, define **sampling bias** and explain one common way it can occur (e.g., self-selection bias, undercoverage)."
   ]
  },
  {
   "cell_type": "code",
   "execution_count": 18,
   "id": "q2_1_code",
   "metadata": {
    "tags": [
     "otter_answer_cell"
    ]
   },
   "outputs": [],
   "source": [
    "sampling_bias_def = \"Sampling bias ocurrs when the sample is not randomly selected, whicg skews the data. This can be the result of personal bias.\""
   ]
  },
  {
   "cell_type": "code",
   "execution_count": 19,
   "id": "6cd5700a",
   "metadata": {
    "deletable": false,
    "editable": false
   },
   "outputs": [
    {
     "data": {
      "text/html": [
       "<p><strong><pre style='display: inline;'>q2.1</pre></strong> passed! ✨</p>"
      ],
      "text/plain": [
       "q2.1 results: All test cases passed!"
      ]
     },
     "execution_count": 19,
     "metadata": {},
     "output_type": "execute_result"
    }
   ],
   "source": [
    "grader.check(\"q2.1\")"
   ]
  },
  {
   "cell_type": "code",
   "execution_count": 20,
   "id": "d5cc9d39",
   "metadata": {},
   "outputs": [
    {
     "name": "stdout",
     "output_type": "stream",
     "text": [
      "Enumerating objects: 7, done.\n",
      "Counting objects: 100% (7/7), done.\n",
      "Delta compression using up to 2 threads\n",
      "Compressing objects: 100% (4/4), done.\n",
      "Writing objects: 100% (4/4), 1.56 KiB | 1.56 MiB/s, done.\n",
      "Total 4 (delta 3), reused 0 (delta 0), pack-reused 0 (from 0)\n",
      "remote: Resolving deltas: 100% (3/3), completed with 3 local objects.\u001b[K\n",
      "To https://github.com/vmurati-user/GAI-E08.git\n",
      "   83ca360..5102a80  main -> main\n"
     ]
    }
   ],
   "source": [
    "!./helpful-script.sh save 1>/dev/null"
   ]
  },
  {
   "cell_type": "markdown",
   "id": "q2_2_prompt",
   "metadata": {
    "deletable": false,
    "editable": false
   },
   "source": [
    "### Question 2.2: Examples of Biased Samples\n",
    "\n",
    "Ask your AI assistant:\n",
    "\n",
    "\"What can go wrong with sampling? **Give me examples of biased samples from real surveys or studies**\"\n",
    "\n",
    "In the variable `biased_example`, describe one concrete historical or theoretical example of a biased sample and explain why it failed to represent the population accurately."
   ]
  },
  {
   "cell_type": "code",
   "execution_count": 23,
   "id": "q2_2_code",
   "metadata": {
    "tags": [
     "otter_answer_cell"
    ]
   },
   "outputs": [],
   "source": [
    "biased_example = \"The Literary Digest poll of the 1936 U.S. presidential election is a famous example of biased sampling. The poll surveyed millions of people but primarily used telephone directories and automobile registration lists to choose respondents. During the Great Depression, these lists overrepresented wealthy individuals,  who were more likely to support the Republican candidate. As a result, the sample was not representative of the entire U.S. population, leading to a major prediction error where the poll incorrectly forecasted a landslide victory for the Republican candidate, while Franklin D. Roosevelt actually won decisively.\""
   ]
  },
  {
   "cell_type": "code",
   "execution_count": 24,
   "id": "a6c97e9f",
   "metadata": {
    "deletable": false,
    "editable": false
   },
   "outputs": [
    {
     "data": {
      "text/html": [
       "<p><strong><pre style='display: inline;'>q2.2</pre></strong> passed! 🌟</p>"
      ],
      "text/plain": [
       "q2.2 results: All test cases passed!"
      ]
     },
     "execution_count": 24,
     "metadata": {},
     "output_type": "execute_result"
    }
   ],
   "source": [
    "grader.check(\"q2.2\")"
   ]
  },
  {
   "cell_type": "code",
   "execution_count": 25,
   "id": "4191f456",
   "metadata": {},
   "outputs": [
    {
     "name": "stdout",
     "output_type": "stream",
     "text": [
      "Enumerating objects: 7, done.\n",
      "Counting objects: 100% (7/7), done.\n",
      "Delta compression using up to 2 threads\n",
      "Compressing objects: 100% (4/4), done.\n",
      "Writing objects: 100% (4/4), 706 bytes | 706.00 KiB/s, done.\n",
      "Total 4 (delta 3), reused 0 (delta 0), pack-reused 0 (from 0)\n",
      "remote: Resolving deltas: 100% (3/3), completed with 3 local objects.\u001b[K\n",
      "To https://github.com/vmurati-user/GAI-E08.git\n",
      "   5102a80..cf51631  main -> main\n"
     ]
    }
   ],
   "source": [
    "!./helpful-script.sh save 1>/dev/null"
   ]
  },
  {
   "cell_type": "markdown",
   "id": "q2_3_prompt",
   "metadata": {
    "deletable": false,
    "editable": false
   },
   "source": [
    "### Question 2.3: The Effect of Response Rates\n",
    "\n",
    "Ask your AI assistant:\n",
    "\n",
    "\"What can go wrong with sampling? **How do response rates affect sample quality?**\"\n",
    "\n",
    "In the variable `response_rate_effect`, explain the potential problem that arises when a survey has a low response rate (i.e., non-response bias)."
   ]
  },
  {
   "cell_type": "code",
   "execution_count": 26,
   "id": "q2_3_code",
   "metadata": {
    "tags": [
     "otter_answer_cell"
    ]
   },
   "outputs": [],
   "source": [
    "response_rate_effect = \"Samples can be nonrandom in a multitude of ways. Response rates have a huge effect - the data can be skewed from the survey end.\""
   ]
  },
  {
   "cell_type": "code",
   "execution_count": 27,
   "id": "197fa90c",
   "metadata": {
    "deletable": false,
    "editable": false
   },
   "outputs": [
    {
     "data": {
      "text/html": [
       "<p><strong><pre style='display: inline;'>q2.3</pre></strong> passed! 🌟</p>"
      ],
      "text/plain": [
       "q2.3 results: All test cases passed!"
      ]
     },
     "execution_count": 27,
     "metadata": {},
     "output_type": "execute_result"
    }
   ],
   "source": [
    "grader.check(\"q2.3\")"
   ]
  },
  {
   "cell_type": "code",
   "execution_count": null,
   "id": "a340936a",
   "metadata": {},
   "outputs": [],
   "source": [
    "!./helpful-script.sh save 1>/dev/null"
   ]
  },
  {
   "cell_type": "markdown",
   "id": "q2_4_prompt",
   "metadata": {
    "deletable": false,
    "editable": false
   },
   "source": [
    "### Question 2.4: Representative Samples\n",
    "\n",
    "Ask your AI assistant:\n",
    "\n",
    "\"What can go wrong with sampling? **What is a representative sample and why is it important?**\"\n",
    "\n",
    "In the variable `representative_sample_importance`, define a **representative sample** and explain why achieving one is the main goal of statistical sampling."
   ]
  },
  {
   "cell_type": "code",
   "execution_count": 28,
   "id": "q2_4_code",
   "metadata": {
    "tags": [
     "otter_answer_cell"
    ]
   },
   "outputs": [],
   "source": [
    "representative_sample_importance = \"Many things can go wrong. A representative sample is important to get statistically significant results.\""
   ]
  },
  {
   "cell_type": "code",
   "execution_count": 29,
   "id": "d761c30b",
   "metadata": {
    "deletable": false,
    "editable": false
   },
   "outputs": [
    {
     "data": {
      "text/html": [
       "<p><strong><pre style='display: inline;'>q2.4</pre></strong> passed! 🍀</p>"
      ],
      "text/plain": [
       "q2.4 results: All test cases passed!"
      ]
     },
     "execution_count": 29,
     "metadata": {},
     "output_type": "execute_result"
    }
   ],
   "source": [
    "grader.check(\"q2.4\")"
   ]
  },
  {
   "cell_type": "code",
   "execution_count": 30,
   "id": "1b1ef9ce",
   "metadata": {},
   "outputs": [
    {
     "name": "stdout",
     "output_type": "stream",
     "text": [
      "Enumerating objects: 7, done.\n",
      "Counting objects: 100% (7/7), done.\n",
      "Delta compression using up to 2 threads\n",
      "Compressing objects: 100% (4/4), done.\n",
      "Writing objects: 100% (4/4), 1.07 KiB | 1.07 MiB/s, done.\n",
      "Total 4 (delta 3), reused 0 (delta 0), pack-reused 0 (from 0)\n",
      "remote: Resolving deltas: 100% (3/3), completed with 3 local objects.\u001b[K\n",
      "To https://github.com/vmurati-user/GAI-E08.git\n",
      "   cf51631..cce0d24  main -> main\n"
     ]
    }
   ],
   "source": [
    "!./helpful-script.sh save 1>/dev/null"
   ]
  },
  {
   "cell_type": "markdown",
   "id": "part3_intro",
   "metadata": {},
   "source": [
    "\n",
    "--- \n",
    "\n",
    "## Part 3: Data Distributions (90 min)\n",
    "\n",
    "**Your Mission:** Understand how to visualize and interpret the shape of your data.\n",
    "\n",
    "---"
   ]
  },
  {
   "cell_type": "markdown",
   "id": "q3_1_prompt",
   "metadata": {
    "deletable": false,
    "editable": false
   },
   "source": [
    "### Question 3.1: What is a Distribution?\n",
    "\n",
    "Ask your AI assistant:\n",
    "\n",
    "\"Now I want to understand how data is distributed: **What is a distribution and why do we care about the shape of data?**\"\n",
    "\n",
    "In the variable `distribution_meaning`, define a **data distribution** and explain why its shape is a critical piece of information for data analysis."
   ]
  },
  {
   "cell_type": "code",
   "execution_count": 31,
   "id": "q3_1_code",
   "metadata": {
    "tags": [
     "otter_answer_cell"
    ]
   },
   "outputs": [],
   "source": [
    "distribution_meaning = \"Data distribution shows the spread of data, helping you to identify trends\""
   ]
  },
  {
   "cell_type": "code",
   "execution_count": 32,
   "id": "a4de5539",
   "metadata": {
    "deletable": false,
    "editable": false
   },
   "outputs": [
    {
     "data": {
      "text/html": [
       "<p><strong><pre style='display: inline;'>q3.1</pre></strong> passed! 🚀</p>"
      ],
      "text/plain": [
       "q3.1 results: All test cases passed!"
      ]
     },
     "execution_count": 32,
     "metadata": {},
     "output_type": "execute_result"
    }
   ],
   "source": [
    "grader.check(\"q3.1\")"
   ]
  },
  {
   "cell_type": "raw",
   "id": "7bc17136",
   "metadata": {
    "vscode": {
     "languageId": "raw"
    }
   },
   "source": [
    "!./helpful-script.sh save 1>/dev/null"
   ]
  },
  {
   "cell_type": "markdown",
   "id": "q3_2_prompt",
   "metadata": {
    "deletable": false,
    "editable": false
   },
   "source": [
    "### Question 3.2: Histograms\n",
    "\n",
    "Ask your AI assistant:\n",
    "\n",
    "\"Now I want to understand how data is distributed: **What do histograms tell us about our data?**\"\n",
    "\n",
    "In the variable `histogram_info`, explain what a **histogram** visualizes and list two specific things a data scientist can learn by looking at one (e.g., skewness, modality)."
   ]
  },
  {
   "cell_type": "code",
   "execution_count": 33,
   "id": "q3_2_code",
   "metadata": {
    "tags": [
     "otter_answer_cell"
    ]
   },
   "outputs": [],
   "source": [
    "histogram_info = \"Histograms provide a visual summary of the distribution of a dataset by showing the frequency or count of data points within specified intervals (bins)\""
   ]
  },
  {
   "cell_type": "code",
   "execution_count": 34,
   "id": "d8324683",
   "metadata": {
    "deletable": false,
    "editable": false
   },
   "outputs": [
    {
     "data": {
      "text/html": [
       "<p><strong><pre style='display: inline;'>q3.2</pre></strong> passed! 🌟</p>"
      ],
      "text/plain": [
       "q3.2 results: All test cases passed!"
      ]
     },
     "execution_count": 34,
     "metadata": {},
     "output_type": "execute_result"
    }
   ],
   "source": [
    "grader.check(\"q3.2\")"
   ]
  },
  {
   "cell_type": "code",
   "execution_count": 35,
   "id": "30e29ea1",
   "metadata": {},
   "outputs": [
    {
     "name": "stdout",
     "output_type": "stream",
     "text": [
      "Enumerating objects: 7, done.\n",
      "Counting objects: 100% (7/7), done.\n",
      "Delta compression using up to 2 threads\n",
      "Compressing objects: 100% (4/4), done.\n",
      "Writing objects: 100% (4/4), 960 bytes | 960.00 KiB/s, done.\n",
      "Total 4 (delta 3), reused 0 (delta 0), pack-reused 0 (from 0)\n",
      "remote: Resolving deltas: 100% (3/3), completed with 3 local objects.\u001b[K\n",
      "To https://github.com/vmurati-user/GAI-E08.git\n",
      "   cce0d24..856339e  main -> main\n"
     ]
    }
   ],
   "source": [
    "!./helpful-script.sh save 1>/dev/null"
   ]
  },
  {
   "cell_type": "markdown",
   "id": "q3_3_prompt",
   "metadata": {
    "deletable": false,
    "editable": false
   },
   "source": [
    "### Question 3.3: Normal Distributions\n",
    "\n",
    "Ask your AI assistant:\n",
    "\n",
    "\"Now I want to understand how data is distributed: **What are normal distributions and why are they important?**\"\n",
    "\n",
    "In the variable `normal_dist_importance`, describe the key visual characteristic of a **normal distribution** (the 'bell curve') and explain why it is so frequently used in statistics and data science."
   ]
  },
  {
   "cell_type": "code",
   "execution_count": 36,
   "id": "q3_3_code",
   "metadata": {
    "tags": [
     "otter_answer_cell"
    ]
   },
   "outputs": [],
   "source": [
    "normal_dist_importance = \"Normal distribution is a bell curve, with the majority of data points falling in the center\""
   ]
  },
  {
   "cell_type": "code",
   "execution_count": 37,
   "id": "acdbcbab",
   "metadata": {
    "deletable": false,
    "editable": false
   },
   "outputs": [
    {
     "data": {
      "text/html": [
       "<p><strong><pre style='display: inline;'>q3.3</pre></strong> passed! 🌈</p>"
      ],
      "text/plain": [
       "q3.3 results: All test cases passed!"
      ]
     },
     "execution_count": 37,
     "metadata": {},
     "output_type": "execute_result"
    }
   ],
   "source": [
    "grader.check(\"q3.3\")"
   ]
  },
  {
   "cell_type": "code",
   "execution_count": 38,
   "id": "59996049",
   "metadata": {},
   "outputs": [
    {
     "name": "stdout",
     "output_type": "stream",
     "text": [
      "Enumerating objects: 5, done.\n",
      "Counting objects: 100% (5/5), done.\n",
      "Delta compression using up to 2 threads\n",
      "Compressing objects: 100% (3/3), done.\n",
      "Writing objects: 100% (3/3), 412 bytes | 412.00 KiB/s, done.\n",
      "Total 3 (delta 2), reused 0 (delta 0), pack-reused 0 (from 0)\n",
      "remote: Resolving deltas: 100% (2/2), completed with 2 local objects.\u001b[K\n",
      "To https://github.com/vmurati-user/GAI-E08.git\n",
      "   856339e..18bf368  main -> main\n"
     ]
    }
   ],
   "source": [
    "!./helpful-script.sh save 1>/dev/null"
   ]
  },
  {
   "cell_type": "markdown",
   "id": "q3_4_prompt",
   "metadata": {
    "deletable": false,
    "editable": false
   },
   "source": [
    "### Question 3.4: Outliers\n",
    "\n",
    "Ask your AI assistant:\n",
    "\n",
    "\"Now I want to understand how data is distributed: **What are outliers and how do they affect our analysis?**\"\n",
    "\n",
    "In the variable `outlier_effect`, define an **outlier** and briefly explain one way it can distort the conclusions drawn from a dataset."
   ]
  },
  {
   "cell_type": "code",
   "execution_count": 39,
   "id": "q3_4_code",
   "metadata": {
    "tags": [
     "otter_answer_cell"
    ]
   },
   "outputs": [],
   "source": [
    "outlier_effect = \"Outliers skew data by throwing off the mean. When there is an outlier, it is better to use the median.\""
   ]
  },
  {
   "cell_type": "code",
   "execution_count": 40,
   "id": "131ba265",
   "metadata": {
    "deletable": false,
    "editable": false
   },
   "outputs": [
    {
     "data": {
      "text/html": [
       "<p><strong><pre style='display: inline;'>q3.4</pre></strong> passed! 🙌</p>"
      ],
      "text/plain": [
       "q3.4 results: All test cases passed!"
      ]
     },
     "execution_count": 40,
     "metadata": {},
     "output_type": "execute_result"
    }
   ],
   "source": [
    "grader.check(\"q3.4\")"
   ]
  },
  {
   "cell_type": "code",
   "execution_count": 41,
   "id": "de0e5667",
   "metadata": {},
   "outputs": [
    {
     "name": "stdout",
     "output_type": "stream",
     "text": [
      "Enumerating objects: 5, done.\n",
      "Counting objects: 100% (5/5), done.\n",
      "Delta compression using up to 2 threads\n",
      "Compressing objects: 100% (3/3), done.\n",
      "Writing objects: 100% (3/3), 372 bytes | 372.00 KiB/s, done.\n",
      "Total 3 (delta 2), reused 0 (delta 0), pack-reused 0 (from 0)\n",
      "remote: Resolving deltas: 100% (2/2), completed with 2 local objects.\u001b[K\n",
      "To https://github.com/vmurati-user/GAI-E08.git\n",
      "   18bf368..eaeba8d  main -> main\n"
     ]
    }
   ],
   "source": [
    "!./helpful-script.sh save 1>/dev/null"
   ]
  },
  {
   "cell_type": "markdown",
   "id": "histogram_exercise_intro",
   "metadata": {},
   "source": [
    "### Exercise: Interpreting a Sample Distribution\n",
    "\n",
    "The code block below generates a sample dataset. Run the code to visualize the data distribution before answering the next two questions."
   ]
  },
  {
   "cell_type": "code",
   "execution_count": 42,
   "id": "histogram_code",
   "metadata": {},
   "outputs": [
    {
     "data": {
      "image/png": "[encoded data removed]",
      "text/plain": [
       "<Figure size 1000x600 with 1 Axes>"
      ]
     },
     "metadata": {},
     "output_type": "display_data"
    }
   ],
   "source": [
    "import numpy as np\n",
    "import pandas as pd\n",
    "import matplotlib.pyplot as plt\n",
    "\n",
    "# Set a seed for reproducibility\n",
    "np.random.seed(42)\n",
    "\n",
    "# Generating sample data\n",
    "skewed_data = np.random.exponential(scale=20000, size=500) + 30000\n",
    "salaries_data = np.append(skewed_data, [500000])\n",
    "\n",
    "# Create and display the histogram\n",
    "plt.figure(figsize=(10, 6))\n",
    "plt.hist(salaries_data, bins=30, edgecolor='black', alpha=0.7)\n",
    "plt.title('Distribution of Hypothetical Salaries (Right Skewed with Outlier)')\n",
    "plt.xlabel('Salary ($)')\n",
    "plt.ylabel('Frequency')\n",
    "plt.axvline(np.median(salaries_data), color='red', linestyle='dashed', linewidth=1, label='Median')\n",
    "plt.axvline(np.mean(salaries_data), color='green', linestyle='dashed', linewidth=1, label='Mean')\n",
    "plt.legend()\n",
    "plt.show()\n"
   ]
  },
  {
   "cell_type": "markdown",
   "id": "q3_5_prompt",
   "metadata": {
    "deletable": false,
    "editable": false
   },
   "source": [
    "### Question 3.5: Identifying Skewness\n",
    "\n",
    "Based on the histogram generated above, what is the skewness of the `salaries_data` distribution (left, right or normally distributed), and how do the mean (green line) and median (red line) relate to each other in this skewed shape?"
   ]
  },
  {
   "cell_type": "code",
   "execution_count": 43,
   "id": "q3_5_code",
   "metadata": {
    "tags": [
     "otter_answer_cell"
    ]
   },
   "outputs": [],
   "source": [
    "skewness_and_center = \"The red line is the median, and the green line is the mean. Since there is a skew (right skew here), the median is more accurate.\""
   ]
  },
  {
   "cell_type": "code",
   "execution_count": 44,
   "id": "3610bed0",
   "metadata": {
    "deletable": false,
    "editable": false
   },
   "outputs": [
    {
     "data": {
      "text/html": [
       "<p><strong><pre style='display: inline;'>q3.5</pre></strong> passed! 🎉</p>"
      ],
      "text/plain": [
       "q3.5 results: All test cases passed!"
      ]
     },
     "execution_count": 44,
     "metadata": {},
     "output_type": "execute_result"
    }
   ],
   "source": [
    "grader.check(\"q3.5\")"
   ]
  },
  {
   "cell_type": "code",
   "execution_count": 45,
   "id": "c981d709",
   "metadata": {},
   "outputs": [
    {
     "name": "stdout",
     "output_type": "stream",
     "text": [
      "Enumerating objects: 7, done.\n",
      "Counting objects: 100% (7/7), done.\n",
      "Delta compression using up to 2 threads\n",
      "Compressing objects: 100% (4/4), done.\n",
      "Writing objects: 100% (4/4), 30.89 KiB | 10.30 MiB/s, done.\n",
      "Total 4 (delta 3), reused 0 (delta 0), pack-reused 0 (from 0)\n",
      "remote: Resolving deltas: 100% (3/3), completed with 3 local objects.\u001b[K\n",
      "To https://github.com/vmurati-user/GAI-E08.git\n",
      "   eaeba8d..f2880b1  main -> main\n"
     ]
    }
   ],
   "source": [
    "!./helpful-script.sh save 1>/dev/null"
   ]
  },
  {
   "cell_type": "markdown",
   "id": "q3_6_prompt",
   "metadata": {
    "deletable": false,
    "editable": false
   },
   "source": [
    "### Question 3.6: Identifying the Outlier\n",
    "\n",
    "Referring to the histogram, is there an obvious outlier present in the `salaries_data`? If yes, briefly describe where the outlier is located relative to the rest of the data. Also, explain the effect of the outlier on the mean and median."
   ]
  },
  {
   "cell_type": "code",
   "execution_count": 46,
   "id": "q3_6_code",
   "metadata": {
    "tags": [
     "otter_answer_cell"
    ]
   },
   "outputs": [],
   "source": [
    "outlier_location = \"No obvious outliers here\""
   ]
  },
  {
   "cell_type": "code",
   "execution_count": 47,
   "id": "0e24b848",
   "metadata": {
    "deletable": false,
    "editable": false
   },
   "outputs": [
    {
     "data": {
      "text/html": [
       "<p><strong><pre style='display: inline;'>q3.6</pre></strong> passed! 🚀</p>"
      ],
      "text/plain": [
       "q3.6 results: All test cases passed!"
      ]
     },
     "execution_count": 47,
     "metadata": {},
     "output_type": "execute_result"
    }
   ],
   "source": [
    "grader.check(\"q3.6\")"
   ]
  },
  {
   "cell_type": "code",
   "execution_count": 48,
   "id": "41ed7031",
   "metadata": {},
   "outputs": [
    {
     "name": "stdout",
     "output_type": "stream",
     "text": [
      "Enumerating objects: 5, done.\n",
      "Counting objects: 100% (5/5), done.\n",
      "Delta compression using up to 2 threads\n",
      "Compressing objects: 100% (3/3), done.\n",
      "Writing objects: 100% (3/3), 403 bytes | 403.00 KiB/s, done.\n",
      "Total 3 (delta 2), reused 0 (delta 0), pack-reused 0 (from 0)\n",
      "remote: Resolving deltas: 100% (2/2), completed with 2 local objects.\u001b[K\n",
      "To https://github.com/vmurati-user/GAI-E08.git\n",
      "   f2880b1..ef6ea57  main -> main\n"
     ]
    }
   ],
   "source": [
    "!./helpful-script.sh save 1>/dev/null"
   ]
  },
  {
   "cell_type": "markdown",
   "id": "part4_intro",
   "metadata": {},
   "source": [
    "\n",
    "--- \n",
    "\n",
    "## Part 4: Summary Statistics (55 min)\n",
    "\n",
    "**Your Mission:** Learn how to summarize and quantify the key features of a data distribution.\n",
    "\n",
    "---"
   ]
  },
  {
   "cell_type": "markdown",
   "id": "q4_1_prompt",
   "metadata": {
    "deletable": false,
    "editable": false
   },
   "source": [
    "### Question 4.1: Measures of Center\n",
    "\n",
    "Ask your AI assistant:\n",
    "\n",
    "\"How do we summarize distributions with numbers? **What do mean, median, and mode tell us differently?**\"\n",
    "\n",
    "In the variable `center_measures_difference`, summarize the unique information provided by the **mean**, **median**, and **mode**."
   ]
  },
  {
   "cell_type": "code",
   "execution_count": 49,
   "id": "q4_1_code",
   "metadata": {
    "tags": [
     "otter_answer_cell"
    ]
   },
   "outputs": [],
   "source": [
    "center_measures_difference = \"We summarize distributions with numbers like the mean, median, and mode to describe the center of the data, where the mean gives the average value, the median indicates the middle value when data is ordered, and the mode identifies the most frequent value.\""
   ]
  },
  {
   "cell_type": "code",
   "execution_count": 50,
   "id": "685af135",
   "metadata": {
    "deletable": false,
    "editable": false
   },
   "outputs": [
    {
     "data": {
      "text/html": [
       "<p><strong><pre style='display: inline;'>q4.1</pre></strong> passed! 🍀</p>"
      ],
      "text/plain": [
       "q4.1 results: All test cases passed!"
      ]
     },
     "execution_count": 50,
     "metadata": {},
     "output_type": "execute_result"
    }
   ],
   "source": [
    "grader.check(\"q4.1\")"
   ]
  },
  {
   "cell_type": "code",
   "execution_count": 51,
   "id": "970c01b2",
   "metadata": {},
   "outputs": [
    {
     "name": "stdout",
     "output_type": "stream",
     "text": [
      "Enumerating objects: 5, done.\n",
      "Counting objects: 100% (5/5), done.\n",
      "Delta compression using up to 2 threads\n",
      "Compressing objects: 100% (3/3), done.\n",
      "Writing objects: 100% (3/3), 416 bytes | 416.00 KiB/s, done.\n",
      "Total 3 (delta 2), reused 0 (delta 0), pack-reused 0 (from 0)\n",
      "remote: Resolving deltas: 100% (2/2), completed with 2 local objects.\u001b[K\n",
      "To https://github.com/vmurati-user/GAI-E08.git\n",
      "   ef6ea57..7f0d3dd  main -> main\n"
     ]
    }
   ],
   "source": [
    "!./helpful-script.sh save 1>/dev/null"
   ]
  },
  {
   "cell_type": "markdown",
   "id": "q4_2_prompt",
   "metadata": {
    "deletable": false,
    "editable": false
   },
   "source": [
    "### Question 4.2: Measures of Spread\n",
    "\n",
    "Ask your AI assistant:\n",
    "\n",
    "\"How do we summarize distributions with numbers? **How do we measure spread (range, standard deviation)?**\"\n",
    "\n",
    "In the variable `spread_measures`, define the **range** and the **standard deviation**, and explain what each one tells you about the variability of the data."
   ]
  },
  {
   "cell_type": "code",
   "execution_count": 52,
   "id": "q4_2_code",
   "metadata": {
    "tags": [
     "otter_answer_cell"
    ]
   },
   "outputs": [],
   "source": [
    "spread_measures = \"We summarize distributions with numbers by measuring center using mean or median and measure spread using range, which shows the difference between the maximum and minimum values, and standard deviation, which quantifies the average distance of data points from the mean.\""
   ]
  },
  {
   "cell_type": "code",
   "execution_count": 53,
   "id": "fa251fa5",
   "metadata": {
    "deletable": false,
    "editable": false
   },
   "outputs": [
    {
     "data": {
      "text/html": [
       "<p><strong><pre style='display: inline;'>q4.2</pre></strong> passed! 🌈</p>"
      ],
      "text/plain": [
       "q4.2 results: All test cases passed!"
      ]
     },
     "execution_count": 53,
     "metadata": {},
     "output_type": "execute_result"
    }
   ],
   "source": [
    "grader.check(\"q4.2\")"
   ]
  },
  {
   "cell_type": "code",
   "execution_count": 54,
   "id": "c5cf73a4",
   "metadata": {},
   "outputs": [
    {
     "name": "stdout",
     "output_type": "stream",
     "text": [
      "Enumerating objects: 7, done.\n",
      "Counting objects: 100% (7/7), done.\n",
      "Delta compression using up to 2 threads\n",
      "Compressing objects: 100% (4/4), done.\n",
      "Writing objects: 100% (4/4), 958 bytes | 958.00 KiB/s, done.\n",
      "Total 4 (delta 3), reused 0 (delta 0), pack-reused 0 (from 0)\n",
      "remote: Resolving deltas: 100% (3/3), completed with 3 local objects.\u001b[K\n",
      "To https://github.com/vmurati-user/GAI-E08.git\n",
      "   7f0d3dd..7f6877b  main -> main\n"
     ]
    }
   ],
   "source": [
    "!./helpful-script.sh save 1>/dev/null"
   ]
  },
  {
   "cell_type": "markdown",
   "id": "q4_3_prompt",
   "metadata": {
    "deletable": false,
    "editable": false
   },
   "source": [
    "### Question 4.3: Outliers' Effect on Summary Statistics (Theory)\n",
    "\n",
    "Ask your AI assistant:\n",
    "\n",
    "\"How do we summarize distributions with numbers? **How do outliers affect different summary statistics?**\"\n",
    "\n",
    "In the variable `outlier_on_stats`, explain how an **outlier** affects the **mean** and how it affects the **median**."
   ]
  },
  {
   "cell_type": "code",
   "execution_count": 55,
   "id": "q4_3_code",
   "metadata": {
    "tags": [
     "otter_answer_cell"
    ]
   },
   "outputs": [],
   "source": [
    "outlier_on_stats = \"Outliers skew the data, making the mean unreliable and requiring the median instead\""
   ]
  },
  {
   "cell_type": "code",
   "execution_count": 56,
   "id": "e7019438",
   "metadata": {
    "deletable": false,
    "editable": false
   },
   "outputs": [
    {
     "data": {
      "text/html": [
       "<p><strong><pre style='display: inline;'>q4.3</pre></strong> passed! 🍀</p>"
      ],
      "text/plain": [
       "q4.3 results: All test cases passed!"
      ]
     },
     "execution_count": 56,
     "metadata": {},
     "output_type": "execute_result"
    }
   ],
   "source": [
    "grader.check(\"q4.3\")"
   ]
  },
  {
   "cell_type": "code",
   "execution_count": 57,
   "id": "55142def",
   "metadata": {},
   "outputs": [
    {
     "name": "stdout",
     "output_type": "stream",
     "text": [
      "Enumerating objects: 5, done.\n",
      "Counting objects: 100% (5/5), done.\n",
      "Delta compression using up to 2 threads\n",
      "Compressing objects: 100% (3/3), done.\n",
      "Writing objects: 100% (3/3), 377 bytes | 377.00 KiB/s, done.\n",
      "Total 3 (delta 2), reused 0 (delta 0), pack-reused 0 (from 0)\n",
      "remote: Resolving deltas: 100% (2/2), completed with 2 local objects.\u001b[K\n",
      "To https://github.com/vmurati-user/GAI-E08.git\n",
      "   7f6877b..607afac  main -> main\n"
     ]
    }
   ],
   "source": [
    "!./helpful-script.sh save 1>/dev/null"
   ]
  },
  {
   "cell_type": "markdown",
   "id": "q4_4_prompt",
   "metadata": {
    "deletable": false,
    "editable": false
   },
   "source": [
    "### Question 4.4: Best Measure of Center (General)\n",
    "\n",
    "Ask your AI assistant:\n",
    "\n",
    "\"How do we summarize distributions with numbers? **When is each measure of center most useful?**\"\n",
    "\n",
    "In the variable `best_measure_of_center`, explain which measure of center (**mean, median, or mode**) is generally considered the most robust (least affected by outliers) and why."
   ]
  },
  {
   "cell_type": "code",
   "execution_count": 60,
   "id": "q4_4_code",
   "metadata": {
    "tags": [
     "otter_answer_cell"
    ]
   },
   "outputs": [],
   "source": [
    "best_measure_of_center = \"When there is no skew, mean. When there is a skew, median.\""
   ]
  },
  {
   "cell_type": "code",
   "execution_count": 61,
   "id": "4605e6d7",
   "metadata": {
    "deletable": false,
    "editable": false
   },
   "outputs": [
    {
     "data": {
      "text/html": [
       "<p><strong><pre style='display: inline;'>q4.4</pre></strong> passed! 🌈</p>"
      ],
      "text/plain": [
       "q4.4 results: All test cases passed!"
      ]
     },
     "execution_count": 61,
     "metadata": {},
     "output_type": "execute_result"
    }
   ],
   "source": [
    "grader.check(\"q4.4\")"
   ]
  },
  {
   "cell_type": "code",
   "execution_count": 62,
   "id": "f4b5665b",
   "metadata": {},
   "outputs": [
    {
     "name": "stdout",
     "output_type": "stream",
     "text": [
      "Enumerating objects: 5, done.\n",
      "Counting objects: 100% (5/5), done.\n",
      "Delta compression using up to 2 threads\n",
      "Compressing objects: 100% (3/3), done.\n",
      "Writing objects: 100% (3/3), 418 bytes | 418.00 KiB/s, done.\n",
      "Total 3 (delta 2), reused 0 (delta 0), pack-reused 0 (from 0)\n",
      "remote: Resolving deltas: 100% (2/2), completed with 2 local objects.\u001b[K\n",
      "To https://github.com/vmurati-user/GAI-E08.git\n",
      "   607afac..eb2cc06  main -> main\n"
     ]
    }
   ],
   "source": [
    "!./helpful-script.sh save 1>/dev/null"
   ]
  },
  {
   "cell_type": "markdown",
   "id": "bc018706",
   "metadata": {
    "vscode": {
     "languageId": "raw"
    }
   },
   "source": [
    "### Exercise: Applying Measures of Center to Skewed Data\n",
    "\n",
    "The code block below is the same histogram from Part 3, using the **right-skewed salary data with an outlier**. Use this visualization to answer the next two questions regarding the central tendency."
   ]
  },
  {
   "cell_type": "code",
   "execution_count": 63,
   "id": "f6ba5420",
   "metadata": {},
   "outputs": [
    {
     "data": {
      "image/png": "[encoded data removed]",
      "text/plain": [
       "<Figure size 1000x600 with 1 Axes>"
      ]
     },
     "metadata": {},
     "output_type": "display_data"
    }
   ],
   "source": [
    "import numpy as np\n",
    "import pandas as pd\n",
    "import matplotlib.pyplot as plt\n",
    "\n",
    "# Set a seed for reproducibility\n",
    "np.random.seed(42)\n",
    "\n",
    "# Generate a right-skewed dataset (using exponential distribution, then scaling)\n",
    "skewed_data = np.random.exponential(scale=20000, size=500) + 30000\n",
    "\n",
    "# Introduce a single, extreme outlier\n",
    "salaries_data = np.append(skewed_data, [500000])\n",
    "\n",
    "# Create and display the histogram\n",
    "plt.figure(figsize=(10, 6))\n",
    "plt.hist(salaries_data, bins=30, edgecolor='black', alpha=0.7)\n",
    "plt.title('Distribution of Hypothetical Salaries (Right Skewed with Outlier)')\n",
    "plt.xlabel('Salary ($)')\n",
    "plt.ylabel('Frequency')\n",
    "plt.axvline(np.median(salaries_data), color='red', linestyle='dashed', linewidth=1, label='Median')\n",
    "plt.axvline(np.mean(salaries_data), color='green', linestyle='dashed', linewidth=1, label='Mean')\n",
    "plt.legend()\n",
    "plt.show()\n"
   ]
  },
  {
   "cell_type": "markdown",
   "id": "q4_5_prompt",
   "metadata": {
    "deletable": false,
    "editable": false
   },
   "source": [
    "### Question 4.5: Best Center Metric for Skewed Data (Application)\n",
    "\n",
    "Look closely at the histogram above, specifically at the positions of the **Mean** (green line) and the **Median** (red line). Which of these two metrics is the better measure for describing the *typical* salary in this specific dataset?"
   ]
  },
  {
   "cell_type": "code",
   "execution_count": null,
   "id": "q4_5_code",
   "metadata": {
    "tags": [
     "otter_answer_cell"
    ]
   },
   "outputs": [],
   "source": [
    "best_center_metric = \"The median is more accurate, because the data is skewed (right skew)\""
   ]
  },
  {
   "cell_type": "code",
   "execution_count": null,
   "id": "73e3bf30",
   "metadata": {
    "deletable": false,
    "editable": false
   },
   "outputs": [],
   "source": [
    "grader.check(\"q4.5\")"
   ]
  },
  {
   "cell_type": "code",
   "execution_count": null,
   "id": "e0148789",
   "metadata": {},
   "outputs": [],
   "source": [
    "!./helpful-script.sh save 1>/dev/null"
   ]
  },
  {
   "cell_type": "markdown",
   "id": "q4_6_prompt",
   "metadata": {
    "deletable": false,
    "editable": false
   },
   "source": [
    "### Question 4.6: Justifying the Metric Choice\n",
    "\n",
    "Explain **why** the metric you chose in Question 4.5 is superior for describing the center of the `salaries_data` distribution, specifically considering the presence of the skew and the extreme outlier."
   ]
  },
  {
   "cell_type": "code",
   "execution_count": null,
   "id": "q4_6_code",
   "metadata": {
    "tags": [
     "otter_answer_cell"
    ]
   },
   "outputs": [],
   "source": [
    "justification_for_metric = ..."
   ]
  },
  {
   "cell_type": "code",
   "execution_count": null,
   "id": "b34578ff",
   "metadata": {
    "deletable": false,
    "editable": false
   },
   "outputs": [],
   "source": [
    "grader.check(\"q4.6\")"
   ]
  },
  {
   "cell_type": "code",
   "execution_count": null,
   "id": "a5d3310c",
   "metadata": {},
   "outputs": [],
   "source": [
    "!./helpful-script.sh save 1>/dev/null"
   ]
  }
 ],
 "metadata": {
  "kernelspec": {
   "display_name": "Python 3 (ipykernel)",
   "language": "python",
   "name": "python3"
  },
  "language_info": {
   "codemirror_mode": {
    "name": "ipython",
    "version": 3
   },
   "file_extension": ".py",
   "mimetype": "text/x-python",
   "name": "python",
   "nbconvert_exporter": "python",
   "pygments_lexer": "ipython3",
   "version": "3.12.1"
  },
  "otter": {
   "OK_FORMAT": true,
   "tests": {
    "q1.1": {
     "name": "q1.1",
     "points": 10,
     "suites": [
      {
       "cases": [
        {
         "code": ">>> assert type(pop_vs_sample) == str, \"'pop_vs_sample' must be a string.\"\n",
         "hidden": false,
         "locked": false
        }
       ],
       "scored": true,
       "setup": "",
       "teardown": "",
       "type": "doctest"
      }
     ]
    },
    "q1.2": {
     "name": "q1.2",
     "points": 10,
     "suites": [
      {
       "cases": [
        {
         "code": ">>> assert type(why_sample) == str, \"'why_sample' must be a string.\"\n",
         "hidden": false,
         "locked": false
        }
       ],
       "scored": true,
       "setup": "",
       "teardown": "",
       "type": "doctest"
      }
     ]
    },
    "q1.3": {
     "name": "q1.3",
     "points": 10,
     "suites": [
      {
       "cases": [
        {
         "code": ">>> assert type(good_vs_bad_sample) == str, \"'good_vs_bad_sample' must be a string.\"\n",
         "hidden": false,
         "locked": false
        }
       ],
       "scored": true,
       "setup": "",
       "teardown": "",
       "type": "doctest"
      }
     ]
    },
    "q1.4": {
     "name": "q1.4",
     "points": 10,
     "suites": [
      {
       "cases": [
        {
         "code": ">>> assert type(sampling_methods) == str, \"'sampling_methods' must be a string.\"\n",
         "hidden": false,
         "locked": false
        }
       ],
       "scored": true,
       "setup": "",
       "teardown": "",
       "type": "doctest"
      }
     ]
    },
    "q1.5": {
     "name": "q1.5",
     "points": 10,
     "suites": [
      {
       "cases": [
        {
         "code": ">>> assert type(sampling_comparison) == str, \"'sampling_comparison' must be a string.\"\n",
         "hidden": false,
         "locked": false
        }
       ],
       "scored": true,
       "setup": "",
       "teardown": "",
       "type": "doctest"
      }
     ]
    },
    "q2.1": {
     "name": "q2.1",
     "points": 10,
     "suites": [
      {
       "cases": [
        {
         "code": ">>> assert type(sampling_bias_def) == str, \"'sampling_bias_def' must be a string.\"\n",
         "hidden": false,
         "locked": false
        }
       ],
       "scored": true,
       "setup": "",
       "teardown": "",
       "type": "doctest"
      }
     ]
    },
    "q2.2": {
     "name": "q2.2",
     "points": 10,
     "suites": [
      {
       "cases": [
        {
         "code": ">>> assert type(biased_example) == str, \"'biased_example' must be a string.\"\n",
         "hidden": false,
         "locked": false
        }
       ],
       "scored": true,
       "setup": "",
       "teardown": "",
       "type": "doctest"
      }
     ]
    },
    "q2.3": {
     "name": "q2.3",
     "points": 10,
     "suites": [
      {
       "cases": [
        {
         "code": ">>> assert type(response_rate_effect) == str, \"'response_rate_effect' must be a string.\"\n",
         "hidden": false,
         "locked": false
        }
       ],
       "scored": true,
       "setup": "",
       "teardown": "",
       "type": "doctest"
      }
     ]
    },
    "q2.4": {
     "name": "q2.4",
     "points": 10,
     "suites": [
      {
       "cases": [
        {
         "code": ">>> assert type(representative_sample_importance) == str, \"'representative_sample_importance' must be a string.\"\n",
         "hidden": false,
         "locked": false
        }
       ],
       "scored": true,
       "setup": "",
       "teardown": "",
       "type": "doctest"
      }
     ]
    },
    "q3.1": {
     "name": "q3.1",
     "points": 10,
     "suites": [
      {
       "cases": [
        {
         "code": ">>> assert type(distribution_meaning) == str, \"'distribution_meaning' must be a string.\"\n",
         "hidden": false,
         "locked": false
        }
       ],
       "scored": true,
       "setup": "",
       "teardown": "",
       "type": "doctest"
      }
     ]
    },
    "q3.2": {
     "name": "q3.2",
     "points": 10,
     "suites": [
      {
       "cases": [
        {
         "code": ">>> assert type(histogram_info) == str, \"'histogram_info' must be a string.\"\n",
         "hidden": false,
         "locked": false
        }
       ],
       "scored": true,
       "setup": "",
       "teardown": "",
       "type": "doctest"
      }
     ]
    },
    "q3.3": {
     "name": "q3.3",
     "points": 10,
     "suites": [
      {
       "cases": [
        {
         "code": ">>> assert type(normal_dist_importance) == str, \"'normal_dist_importance' must be a string.\"\n",
         "hidden": false,
         "locked": false
        }
       ],
       "scored": true,
       "setup": "",
       "teardown": "",
       "type": "doctest"
      }
     ]
    },
    "q3.4": {
     "name": "q3.4",
     "points": 10,
     "suites": [
      {
       "cases": [
        {
         "code": ">>> assert type(outlier_effect) == str, \"'outlier_effect' must be a string.\"\n",
         "hidden": false,
         "locked": false
        }
       ],
       "scored": true,
       "setup": "",
       "teardown": "",
       "type": "doctest"
      }
     ]
    },
    "q3.5": {
     "name": "q3.5",
     "points": 10,
     "suites": [
      {
       "cases": [
        {
         "code": ">>> assert type(skewness_and_center) == str, \"'skewness_and_center' must be a string.\"\n",
         "hidden": false,
         "locked": false
        }
       ],
       "scored": true,
       "setup": "",
       "teardown": "",
       "type": "doctest"
      }
     ]
    },
    "q3.6": {
     "name": "q3.6",
     "points": 10,
     "suites": [
      {
       "cases": [
        {
         "code": ">>> assert type(outlier_location) == str, \"'outlier_location' must be a string.\"\n",
         "hidden": false,
         "locked": false
        }
       ],
       "scored": true,
       "setup": "",
       "teardown": "",
       "type": "doctest"
      }
     ]
    },
    "q4.1": {
     "name": "q4.1",
     "points": 10,
     "suites": [
      {
       "cases": [
        {
         "code": ">>> assert type(center_measures_difference) == str, \"'center_measures_difference' must be a string.\"\n",
         "hidden": false,
         "locked": false
        }
       ],
       "scored": true,
       "setup": "",
       "teardown": "",
       "type": "doctest"
      }
     ]
    },
    "q4.2": {
     "name": "q4.2",
     "points": 10,
     "suites": [
      {
       "cases": [
        {
         "code": ">>> assert type(spread_measures) == str, \"'spread_measures' must be a string.\"\n",
         "hidden": false,
         "locked": false
        }
       ],
       "scored": true,
       "setup": "",
       "teardown": "",
       "type": "doctest"
      }
     ]
    },
    "q4.3": {
     "name": "q4.3",
     "points": 10,
     "suites": [
      {
       "cases": [
        {
         "code": ">>> assert type(outlier_on_stats) == str, \"'outlier_on_stats' must be a string.\"\n",
         "hidden": false,
         "locked": false
        }
       ],
       "scored": true,
       "setup": "",
       "teardown": "",
       "type": "doctest"
      }
     ]
    },
    "q4.4": {
     "name": "q4.4",
     "points": 10,
     "suites": [
      {
       "cases": [
        {
         "code": ">>> assert type(best_measure_of_center) == str, \"'best_measure_of_center' must be a string.\"\n",
         "hidden": false,
         "locked": false
        }
       ],
       "scored": true,
       "setup": "",
       "teardown": "",
       "type": "doctest"
      }
     ]
    },
    "q4.5": {
     "name": "q4.5",
     "points": 10,
     "suites": [
      {
       "cases": [
        {
         "code": ">>> assert type(best_center_metric) == str, \"'best_center_metric' must be a string.\"\n",
         "hidden": false,
         "locked": false
        }
       ],
       "scored": true,
       "setup": "",
       "teardown": "",
       "type": "doctest"
      }
     ]
    },
    "q4.6": {
     "name": "q4.6",
     "points": 10,
     "suites": [
      {
       "cases": [
        {
         "code": ">>> assert type(justification_for_metric) == str, \"'justification_for_metric' must be a string.\"\n",
         "hidden": false,
         "locked": false
        }
       ],
       "scored": true,
       "setup": "",
       "teardown": "",
       "type": "doctest"
      }
     ]
    }
   }
  }
 },
 "nbformat": 4,
 "nbformat_minor": 5
}
